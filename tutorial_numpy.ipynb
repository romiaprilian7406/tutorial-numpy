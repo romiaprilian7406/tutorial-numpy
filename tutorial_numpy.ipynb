{
  "nbformat": 4,
  "nbformat_minor": 0,
  "metadata": {
    "colab": {
      "provenance": [],
      "toc_visible": true,
      "authorship_tag": "ABX9TyNA/Vc1eQQrn5D07//OpAdx",
      "include_colab_link": true
    },
    "kernelspec": {
      "name": "python3",
      "display_name": "Python 3"
    },
    "language_info": {
      "name": "python"
    }
  },
  "cells": [
    {
      "cell_type": "markdown",
      "metadata": {
        "id": "view-in-github",
        "colab_type": "text"
      },
      "source": [
        "<a href=\"https://colab.research.google.com/github/romiaprilian7406/tutorial-numpy/blob/main/tutorial_numpy.ipynb\" target=\"_parent\"><img src=\"https://colab.research.google.com/assets/colab-badge.svg\" alt=\"Open In Colab\"/></a>"
      ]
    },
    {
      "cell_type": "markdown",
      "source": [
        "# Numpy Version"
      ],
      "metadata": {
        "id": "p6Nc67nBs-rX"
      }
    },
    {
      "cell_type": "code",
      "source": [
        "import numpy as np\n",
        "\n",
        "print(f\"numpy version: {np.__version__}\")"
      ],
      "metadata": {
        "colab": {
          "base_uri": "https://localhost:8080/"
        },
        "collapsed": true,
        "id": "cYJZGJOUyk8Y",
        "outputId": "68c65120-af76-4a07-a8ba-0f995bff8ff6"
      },
      "execution_count": 2,
      "outputs": [
        {
          "output_type": "stream",
          "name": "stdout",
          "text": [
            "numpy version: 2.0.2\n"
          ]
        }
      ]
    },
    {
      "cell_type": "markdown",
      "source": [
        "# Ndarray"
      ],
      "metadata": {
        "id": "YNHY0IjrtLBs"
      }
    },
    {
      "cell_type": "code",
      "source": [
        "# 1D (Vektor)\n",
        "arr_1d = np.array([1, 2, 3])\n",
        "print(f\"arr_1d: {arr_1d}\")\n",
        "print(f\"ndim: {arr_1d.ndim}\")\n",
        "print(f\"shape: {arr_1d.shape}\\n\")\n",
        "\n",
        "# 2D (Matriks)\n",
        "arr_2d = np.array([[1, 2], [3, 4], [5, 6]])\n",
        "print(f\"arr_2d: \\n{arr_2d}\")\n",
        "print(f\"ndim: {arr_2d.ndim}\")\n",
        "print(f\"shape: {arr_2d.shape}\\n\")\n",
        "\n",
        "# 3D (Tensor)\n",
        "arr_3d = np.array([[[1, 2, 3], [4, 5, 6]], [[7, 8, 9], [10, 11, 12]]])\n",
        "print(f\"arr_3d: \\n{arr_3d}\")\n",
        "print(f\"ndim: {arr_3d.ndim}\")\n",
        "print(f\"shape: {arr_3d.shape}\\n\")\n",
        "\n",
        "# specify minimum dimension\n",
        "arr_ndmin = np.array([1, 2, 3, 4, 5], ndmin=3)\n",
        "print(f\"arr_ndmin: \\n{arr_ndmin}\\n\")\n",
        "\n",
        "# specify data type\n",
        "arr_dtype = np.array([1, 2, 3, 4, 5], dtype=np.float32)\n",
        "print(f\"arr_dtype: \\n{arr_dtype}\\n\")"
      ],
      "metadata": {
        "colab": {
          "base_uri": "https://localhost:8080/"
        },
        "collapsed": true,
        "id": "vy411zCU16Y4",
        "outputId": "cbd0c20b-2e0d-4161-9931-fa089c30feb8"
      },
      "execution_count": 4,
      "outputs": [
        {
          "output_type": "stream",
          "name": "stdout",
          "text": [
            "arr_1d: [1 2 3]\n",
            "ndim: 1\n",
            "shape: (3,)\n",
            "\n",
            "arr_2d: \n",
            "[[1 2]\n",
            " [3 4]\n",
            " [5 6]]\n",
            "ndim: 2\n",
            "shape: (3, 2)\n",
            "\n",
            "arr_3d: \n",
            "[[[ 1  2  3]\n",
            "  [ 4  5  6]]\n",
            "\n",
            " [[ 7  8  9]\n",
            "  [10 11 12]]]\n",
            "ndim: 3\n",
            "shape: (2, 2, 3)\n",
            "\n",
            "arr_ndmin: \n",
            "[[[1 2 3 4 5]]]\n",
            "\n",
            "arr_dtype: \n",
            "[1. 2. 3. 4. 5.]\n",
            "\n"
          ]
        }
      ]
    },
    {
      "cell_type": "markdown",
      "source": [
        "# Data Types\n",
        "Data Types & Description\n",
        "1. bool_ : Boolean (True or False) stored as a byte\n",
        "\n",
        "2. int_ : Default integer type (same as C long; normally either int64 or int32)\n",
        "\n",
        "3. intc : Identical to C int (normally int32 or int64)\n",
        "\n",
        "4. intp : Integer used for indexing (same as C ssize_t; normally either int32 or int64)\n",
        "\n",
        "5. int8 : Byte (-128 to 127)\n",
        "\n",
        "6. int16 : Integer (-32768 to 32767)\n",
        "\n",
        "7. int32 : Integer (-2147483648 to 2147483647)\n",
        "\n",
        "8. int64 : Integer (-9223372036854775808 to 9223372036854775807)\n",
        "\n",
        "9. uint8 : Unsigned integer (0 to 255)\n",
        "\n",
        "10. uint16 : Unsigned integer (0 to 65535)\n",
        "\n",
        "11. uint32 : Unsigned integer (0 to 4294967295)\n",
        "\n",
        "12. uint64 : Unsigned integer (0 to 18446744073709551615)\n",
        "\n",
        "13. float_ : Shorthand for float64\n",
        "\n",
        "14. float16 : Half precision float: sign bit, 5 bits exponent, 10 bits mantissa\n",
        "\n",
        "15. float32 : Single precision float: sign bit, 8 bits exponent, 23 bits mantissa\n",
        "\n",
        "16. float64 : Double precision float: sign bit, 11 bits exponent, 52 bits mantissa\n",
        "\n",
        "17. complex_ : Shorthand for complex128\n",
        "\n",
        "18. complex64 : Complex number, represented by two 32-bit floats (real and imaginary components)\n",
        "\n",
        "19. complex128 : Complex number, represented by two 64-bit floats (real and imaginary components)"
      ],
      "metadata": {
        "id": "EpSy2kXVwxEm"
      }
    },
    {
      "cell_type": "code",
      "source": [
        "# Create Arrays With Defined Data Type\n",
        "arr_dt = np.array([1, 2, 3], dtype=np.int64)\n",
        "print(f\"arr_dt: \\n{arr_dt}\")\n",
        "print(f\"dtype: {arr_dt.dtype}\\n\")\n",
        "\n",
        "# Convert Data Type of NumPy Arrays\n",
        "# Metode astype membuat salinan array dan mengonversinya ke tipe data yang ditentukan. Ini adalah metode yang paling sering digunakan untuk mengubah tipe data array.\n",
        "arr_cdt = arr_dt.astype(np.float32)\n",
        "print(f\"arr_cdt: \\n{arr_cdt}\")\n",
        "print(f\"dtype: {arr_cdt.dtype}\\n\")"
      ],
      "metadata": {
        "colab": {
          "base_uri": "https://localhost:8080/"
        },
        "collapsed": true,
        "id": "flVpeM8qx4kH",
        "outputId": "24e6b3aa-9344-4d89-e0e5-882ec2c5b84a"
      },
      "execution_count": null,
      "outputs": [
        {
          "output_type": "stream",
          "name": "stdout",
          "text": [
            "arr_dt: \n",
            "[1 2 3]\n",
            "dtype: int64\n",
            "\n",
            "arr_cdt: \n",
            "[1. 2. 3.]\n",
            "dtype: float32\n",
            "\n"
          ]
        }
      ]
    },
    {
      "cell_type": "markdown",
      "source": [
        "# axis"
      ],
      "metadata": {
        "id": "PZBG8kLpB79E"
      }
    },
    {
      "cell_type": "code",
      "source": [
        "# along different rows (baris)\n",
        "# along different columns (kolom)\n",
        "\n",
        "# 1D\n",
        "# axis : 0 -> vektor\n",
        "\n",
        "# 2D\n",
        "# axis : 0 -> baris\n",
        "# axis : 1 -> kolom\n",
        "\n",
        "# 3D\n",
        "# axis : 0 -> along different 2D arrays\n",
        "# axis : 1 -> along different rows in each 2D arrays\n",
        "# axis : 2 -> along different columns in each 2D arrays\n",
        "\n",
        "# 4D\n",
        "# axis : 0 -> along different 3D arrays\n",
        "# axis : 1 -> along different 2D arrays in each 3D arrays\n",
        "# axis : 2 -> along different rows in each 2D arrays\n",
        "# axis : 3 -> along different columns in each 2D arrays\n",
        "\n",
        "# 5D\n",
        "# axis : 0 -> along different 4D arrays\n",
        "# axis : 1 -> along different 3D arrays in each 4D arrays\n",
        "# axis : 2 -> along different 2D arrays in each 3D arrays\n",
        "# axis : 3 -> along different rows in each 2D arrays\n",
        "# axis : 4 -> along different columns in each 2D arrays\n",
        "\n",
        "# 1D\n",
        "a = np.array([1,2,3,4,5])\n",
        "print(f\"a: {a}\")\n",
        "a_sum_a0 = np.sum(a, axis=0)\n",
        "print(f\"a_sum_a0: {a_sum_a0}\\n\")\n",
        "\n",
        "# 2D\n",
        "x = np.array(\n",
        "    [[1, 2, 3],\n",
        "    [10, 20, 30],]\n",
        ")\n",
        "\n",
        "x_sum = np.sum(x)\n",
        "print(f\"x: \\n{x}\")\n",
        "print(f\"x_sum: {x_sum}\")\n",
        "\n",
        "# axis = 0 (baris)\n",
        "x_sum_a0 = np.sum(x, axis=0)\n",
        "print(f\"x_sum_a0: {x_sum_a0}\")\n",
        "\n",
        "# axis = 1 (kolom)\n",
        "x_sum_a1 = np.sum(x, axis=1)\n",
        "print(f\"x_sum_a1: {x_sum_a1}\\n\")\n",
        "\n",
        "# 3D\n",
        "y = np.array(\n",
        "    [[[1,2],\n",
        "      [3,4]],\n",
        "\n",
        "     [[5,6],\n",
        "     [7,8]]]\n",
        ")\n",
        "print(f\"y: \\n{y}\\n\")\n",
        "\n",
        "y_sum_a0 = np.sum(y, axis=0) # matriks\n",
        "print(f\"y_sum_a0: \\n{y_sum_a0}\\n\")\n",
        "\n",
        "y_sum_a1 = np.sum(y, axis=1) # baris\n",
        "print(f\"y_sum_a1: \\n{y_sum_a1}\\n\")\n",
        "\n",
        "y_sum_a2 = np.sum(y, axis=2) # kolom\n",
        "print(f\"y_sum_a2: \\n{y_sum_a2}\")"
      ],
      "metadata": {
        "colab": {
          "base_uri": "https://localhost:8080/"
        },
        "id": "qVjxqYWEB_Jt",
        "outputId": "e2e16522-0fdc-44ed-852c-85def29e055d"
      },
      "execution_count": null,
      "outputs": [
        {
          "output_type": "stream",
          "name": "stdout",
          "text": [
            "a: [1 2 3 4 5]\n",
            "a_sum_a0: 15\n",
            "\n",
            "x: \n",
            "[[ 1  2  3]\n",
            " [10 20 30]]\n",
            "x_sum: 66\n",
            "x_sum_a0: [11 22 33]\n",
            "x_sum_a1: [ 6 60]\n",
            "\n",
            "y: \n",
            "[[[1 2]\n",
            "  [3 4]]\n",
            "\n",
            " [[5 6]\n",
            "  [7 8]]]\n",
            "\n",
            "y_sum_a0: \n",
            "[[ 6  8]\n",
            " [10 12]]\n",
            "\n",
            "y_sum_a1: \n",
            "[[ 4  6]\n",
            " [12 14]]\n",
            "\n",
            "y_sum_a2: \n",
            "[[ 3  7]\n",
            " [11 15]]\n"
          ]
        }
      ]
    },
    {
      "cell_type": "markdown",
      "source": [
        "# copies vs views\n",
        "\n",
        "copy\n",
        "generates a new array and copies the data from the original array into this new array. When you create a copy of an array in NumPy, the data is fully duplicated. This means that changes made to the copy do not affect the original array, and vice versa. Copies are useful when you need to work with a modified version of an array without altering the original data.\n",
        "\n",
        "1. Buat array baru di memori.\n",
        "2. Data asli tidak terhubung.\n",
        "3. Perubahan di copy tidak memengaruhi array asli.\n",
        "\n",
        "shallow copy (view)\n",
        "A shallow copy of an array creates a new array object, but it does not create copies of the elements contained within the original array if those elements themselves are arrays or other complex objects.Instead, the new array still references the same elements as the original array. This means that changes to the contents of the elements will affect both the original and the copied array.\n",
        "\n",
        "1. Hanya salin metadata array (shape, strides, dtype), bukan datanya.\n",
        "2. Kedua array menunjuk ke buffer memori yang sama.\n",
        "3. Perubahan di satu array terlihat di lainnya.\n",
        "\n",
        "\n",
        "\n",
        "---\n",
        "\n",
        "\n",
        "Operasi                 View / Copy\n",
        "\n",
        "Slicing (a[2:5])\t         View\n",
        "\n",
        "Reshape (jika mungkin)\t   View\n",
        "\n",
        "Transpose .T\t             View\n",
        "\n",
        "Ravel (kadang)\t           View\n",
        "\n",
        "Fancy indexing [ [0,2] ]\t Copy\n",
        "\n",
        "Boolean indexing\t         Copy\n",
        "\n",
        ".copy()\t                   Copy\n",
        "\n",
        "astype()\t                 Copy\n",
        "\n",
        "np.array(..., copy=True)\t Copy\n",
        "\n",
        "np.asarray(...)\t           View (jika bisa)\n",
        "\n",
        "\n",
        "---\n",
        "\n",
        "\n",
        ".base : Mengecek apakah sebuah array copy atau view\n",
        "1. Kalau arr.base is None → berarti array asli.\n",
        "2. Kalau arr.base menunjuk ke array lain → berarti view dari array itu."
      ],
      "metadata": {
        "id": "zv_U-CHtPqq0"
      }
    },
    {
      "cell_type": "code",
      "source": [
        "\n",
        "\n",
        "# ====== copy ======\n",
        "# original\n",
        "arr_og1 = np.array([1,2,3])\n",
        "\n",
        "# copy\n",
        "arr_copied1 = arr_og1.copy()\n",
        "arr_copied1[1] = 10\n",
        "\n",
        "print(f\"arr_og1: {arr_og1}\")\n",
        "print(f\"arr_og1.base: {arr_og1.base}\")\n",
        "print(f\"arr_copied1: {arr_copied1}\")\n",
        "print(f\"arr_copied1.base: {arr_copied1.base}\\n\")\n",
        "\n",
        "# ====== Shallow copy (view) ======\n",
        "# Original array\n",
        "arr_og2 = np.array([[1, 2, 3], [4, 5, 6]])\n",
        "\n",
        "# Shallow copy\n",
        "arr_view2 = arr_og2.view()\n",
        "\n",
        "# Modify an element in the shallow copy\n",
        "arr_view2[0, 0] = 100\n",
        "print(f\"arr_og2: \\n{arr_og2}\")\n",
        "print(f\"arr_og2.base: {arr_og2.base}\")\n",
        "print(f\"arr_view2: \\n{arr_view2}\")\n",
        "print(f\"arr_view2.base: \\n{arr_view2.base}\\n\")\n",
        "\n",
        "# ======\n",
        "# original\n",
        "arr_og3 = np.array(\n",
        "    [[1,2,3],\n",
        "     [4,5,6]]\n",
        ")\n",
        "arr_copied3 = arr_og3.copy()\n",
        "arr_copied3[1,2] = 99\n",
        "print(f\"arr_og3: \\n{arr_og3}\")\n",
        "print(f\"arr_og3.base: \\n{arr_og3.base}\")\n",
        "print(f\"arr_copied3: \\n{arr_copied3}\")\n",
        "print(f\"arr_copied3.base: \\n{arr_copied3.base}\\n\")\n",
        "\n",
        "# ====== Copying Subarrays ======\n",
        "arr_og4 = np.array([[1, 2, 3], [4, 5, 6], [7, 8, 9]])\n",
        "# Creating a copy of the subarray\n",
        "sub_array = arr_og4[0:2].copy()\n",
        "sub_array[0] = 20\n",
        "print(f\"arr_og4: \\n{arr_og4}\")\n",
        "print(f\"sub_array: \\n{sub_array}\\n\")\n",
        "\n",
        "# ====== Creating Views ======\n",
        "# Original array\n",
        "arr_og5 = np.array([1, 2, 3])\n",
        "\n",
        "arr_view5 = arr_og5[0:2]\n",
        "\n",
        "# Modifying the view\n",
        "arr_view5[0] = 30\n",
        "print(f\"arr_og5: \\n{arr_og5}\")\n",
        "print(f\"arr_view5: \\n{arr_view5}\\n\")\n",
        "\n",
        "# === VIEWS FROM SLICING ===\n",
        "# Original array\n",
        "arr_og6 = np.array([1, 2, 3, 4, 5])\n",
        "\n",
        "# Creating a view by slicing the original array\n",
        "arr_view6 = arr_og6[1:4]\n",
        "print(f\"arr_og6: \\n{arr_og6}\")\n",
        "print(f\"arr_view6: \\n{arr_view6}\\n\")\n",
        "\n",
        "# === VIEWS FROM RESHAPING ===\n",
        "# Original 1D array\n",
        "arr_og7 = np.array([1, 2, 3, 4, 5, 6])\n",
        "\n",
        "# Reshaping the array into a 2x3 matrix\n",
        "arr_view7 = arr_og7.reshape(2, 3)\n",
        "print(f\"arr_og7: \\n{arr_og7}\")\n",
        "print(f\"arr_view7: \\n{arr_view7}\\n\")\n",
        "\n",
        "# === VIEWS FROM RESHAPING ===\n",
        "# Original 2D array\n",
        "arr_og8 = np.array([[1, 2, 3], [4, 5, 6]])\n",
        "\n",
        "# Transposing the array\n",
        "arr_view8 = arr_og8.T\n",
        "print(f\"arr_og8: \\n{arr_og8}\")\n",
        "print(f\"arr_view8: \\n{arr_view8}\\n\")"
      ],
      "metadata": {
        "colab": {
          "base_uri": "https://localhost:8080/"
        },
        "id": "XQRAIV7ZPvUg",
        "outputId": "7208605c-6f3a-4704-f63c-229ef8257829"
      },
      "execution_count": 12,
      "outputs": [
        {
          "output_type": "stream",
          "name": "stdout",
          "text": [
            "arr_og1: [1 2 3]\n",
            "arr_og1.base: None\n",
            "arr_copied1: [ 1 10  3]\n",
            "arr_copied1.base: None\n",
            "\n",
            "arr_og2: \n",
            "[[100   2   3]\n",
            " [  4   5   6]]\n",
            "arr_og2.base: None\n",
            "arr_view2: \n",
            "[[100   2   3]\n",
            " [  4   5   6]]\n",
            "arr_view2.base: \n",
            "[[100   2   3]\n",
            " [  4   5   6]]\n",
            "\n",
            "arr_og3: \n",
            "[[1 2 3]\n",
            " [4 5 6]]\n",
            "arr_og3.base: \n",
            "None\n",
            "arr_copied3: \n",
            "[[ 1  2  3]\n",
            " [ 4  5 99]]\n",
            "arr_copied3.base: \n",
            "None\n",
            "\n",
            "arr_og4: \n",
            "[[1 2 3]\n",
            " [4 5 6]\n",
            " [7 8 9]]\n",
            "sub_array: \n",
            "[[20 20 20]\n",
            " [ 4  5  6]]\n",
            "\n",
            "arr_og5: \n",
            "[30  2  3]\n",
            "arr_view5: \n",
            "[30  2]\n",
            "\n",
            "arr_og6: \n",
            "[1 2 3 4 5]\n",
            "arr_view6: \n",
            "[2 3 4]\n",
            "\n",
            "arr_og7: \n",
            "[1 2 3 4 5 6]\n",
            "arr_view7: \n",
            "[[1 2 3]\n",
            " [4 5 6]]\n",
            "\n",
            "arr_og8: \n",
            "[[1 2 3]\n",
            " [4 5 6]]\n",
            "arr_view8: \n",
            "[[1 4]\n",
            " [2 5]\n",
            " [3 6]]\n",
            "\n"
          ]
        }
      ]
    },
    {
      "cell_type": "markdown",
      "source": [
        "# np.array() vs np.asarray()\n",
        "| Fitur                 | `np.array()`                               | `np.asarray()`                                       |\n",
        "| --------------------- | ------------------------------------------ | ---------------------------------------------------- |\n",
        "| **Input list/tuple**  | Buat array baru                            | Buat array baru                                      |\n",
        "| **Input NumPy array** | **Selalu copy** (kecuali `copy=False`)     | **Tidak copy** (hanya view jika dtype & order cocok) |\n",
        "| **Kontrol copy**      | Bisa atur dengan argumen `copy=True/False` | Tidak ada argumen `copy` (default = hemat)           |\n",
        "| **Efisiensi**         | Bisa lebih boros memori (karena copy)      | Lebih hemat, cepat (hindari copy jika tidak perlu)   |\n",
        "| **Use case utama**    | Kalau butuh array baru yang terpisah       | Kalau hanya ingin “pastikan” input jadi array NumPy  |\n",
        "\n",
        "\n",
        "---\n",
        "\n",
        "np.asarray(obj) :\n",
        "\n",
        "Kalau obj sudah ndarray dan dtype/order sama → kembalikan objek yang sama.\n",
        "\n",
        "Kalau tidak → bikin copy dengan dtype/order baru.\n",
        "\n",
        "np.array(obj) :\n",
        "\n",
        "Selalu bikin array baru (copy) kecuali kamu eksplisit pakai copy=False."
      ],
      "metadata": {
        "id": "mWXtF4zYxjmN"
      }
    },
    {
      "cell_type": "code",
      "source": [
        "# ===== From List/Tuple Python =====\n",
        "x = [1,2,3,4,5]\n",
        "\n",
        "# np.array()\n",
        "arr_1 = np.array(x)\n",
        "\n",
        "# np.asarray()\n",
        "arr_2 = np.asarray(x)\n",
        "\n",
        "x[2] = 99\n",
        "\n",
        "print(f\"x: {x}\")\n",
        "print(f\"arr_1: {arr_1}, x is arr_1: {x is arr_1}\")\n",
        "print(f\"arr_2: {arr_2}, x is arr_2: {x is arr_2}\\n\")\n",
        "\n",
        "# ===== From Numpy Array (same dtype) =====\n",
        "y = np.array([100,200,300,400,500])\n",
        "\n",
        "# np.array()\n",
        "arr_3 = np.array(y)\n",
        "\n",
        "# np.asarray()\n",
        "arr_4 = np.asarray(y)\n",
        "\n",
        "y[2] = 0\n",
        "\n",
        "print(f\"y: {y}\")\n",
        "print(f\"arr_3: {arr_3}, y is arr_3: {y is arr_3}\")\n",
        "print(f\"arr_4: {arr_4}, y is arr_4 {y is arr_4}\\n\")\n",
        "\n",
        "# ===== From Numpy Array (diff dtype) =====\n",
        "z = np.array([1, 2, 3], dtype=np.int32)\n",
        "arr_5 = np.array(z, dtype=np.float32)\n",
        "arr_6 = np.asarray(z)\n",
        "print(f\"z: {z}\")\n",
        "print(f\"arr_5: {arr_5}, z is arr_5: {z is arr_5}\")\n",
        "print(f\"arr_6: {arr_6}, z is arr_6 {z is arr_6}\\n\")\n",
        "\n"
      ],
      "metadata": {
        "colab": {
          "base_uri": "https://localhost:8080/"
        },
        "id": "JEGc3aHvxpXV",
        "outputId": "44cdc93d-4b76-4871-ce98-273ddacd327f"
      },
      "execution_count": 20,
      "outputs": [
        {
          "output_type": "stream",
          "name": "stdout",
          "text": [
            "x: [1, 2, 99, 4, 5]\n",
            "arr_1: [1 2 3 4 5], x is arr_1: False\n",
            "arr_2: [1 2 3 4 5], x is arr_2: False\n",
            "\n",
            "y: [100 200   0 400 500]\n",
            "arr_3: [100 200 300 400 500], y is arr_3: False\n",
            "arr_4: [100 200   0 400 500], y is arr_4 True\n",
            "\n",
            "z: [1 2 3]\n",
            "arr_5: [1. 2. 3.], z is arr_5: False\n",
            "arr_6: [1 2 3], z is arr_6 True\n",
            "\n"
          ]
        }
      ]
    },
    {
      "cell_type": "markdown",
      "source": [
        "# Creating and Manipulating"
      ],
      "metadata": {
        "id": "CyOSV7is0FXh"
      }
    },
    {
      "cell_type": "markdown",
      "source": [
        "## Array Cretion Routines\n",
        "numpy.array() Function\n",
        "\n",
        "numpy.zeros() Function\n",
        "\n",
        "numpy.ones() Function\n",
        "\n",
        "numpy.arange() Function\n",
        "\n",
        "numpy.linspace() Function\n",
        "\n",
        "numpy.random.rand() Function\n",
        "\n",
        "numpy.empty() Function\n",
        "\n",
        "numpy.full() Function"
      ],
      "metadata": {
        "id": "sfFe2_tr0K32"
      }
    },
    {
      "cell_type": "markdown",
      "source": [
        "### zeros"
      ],
      "metadata": {
        "id": "77ndLX-1-Cij"
      }
    },
    {
      "cell_type": "code",
      "source": [
        "arr_zeros1d = np.zeros(4)\n",
        "print(f\"arr_zeros1d: \\n{arr_zeros1d}\\n\")\n",
        "\n",
        "arr_zeros2d = np.zeros([2,3])\n",
        "print(f\"arr_zeros2d: \\n{arr_zeros2d}\\n\")\n",
        "\n",
        "arr_zeros3d = np.zeros([2,3,4])\n",
        "print(f\"arr_zeros3d: \\n{arr_zeros3d}\\n\")"
      ],
      "metadata": {
        "colab": {
          "base_uri": "https://localhost:8080/"
        },
        "id": "p0Jkwhci1DOr",
        "outputId": "75a03ccf-cd0e-479b-88dc-819d89108f89"
      },
      "execution_count": null,
      "outputs": [
        {
          "output_type": "stream",
          "name": "stdout",
          "text": [
            "arr_zeros1d: \n",
            "[0. 0. 0. 0.]\n",
            "\n",
            "arr_zeros2d: \n",
            "[[0. 0. 0.]\n",
            " [0. 0. 0.]]\n",
            "\n",
            "arr_zeros3d: \n",
            "[[[0. 0. 0. 0.]\n",
            "  [0. 0. 0. 0.]\n",
            "  [0. 0. 0. 0.]]\n",
            "\n",
            " [[0. 0. 0. 0.]\n",
            "  [0. 0. 0. 0.]\n",
            "  [0. 0. 0. 0.]]]\n",
            "\n"
          ]
        }
      ]
    },
    {
      "cell_type": "markdown",
      "source": [
        "### ones"
      ],
      "metadata": {
        "id": "KyBud2Pz-G94"
      }
    },
    {
      "cell_type": "code",
      "source": [
        "arr_ones1d = np.ones(4)\n",
        "print(f\"arr_ones1d: \\n{arr_ones1d}\\n\")\n",
        "\n",
        "arr_ones2d = np.ones([2,3])\n",
        "print(f\"arr_ones2d: \\n{arr_ones2d}\\n\")\n",
        "\n",
        "arr_ones3d = np.ones([2,3,4])\n",
        "print(f\"arr_ones3d: \\n{arr_ones3d}\\n\")"
      ],
      "metadata": {
        "colab": {
          "base_uri": "https://localhost:8080/"
        },
        "id": "slXmH4eB1-F7",
        "outputId": "d1a95dc3-3cf3-4e63-d5cf-3b93332267af"
      },
      "execution_count": null,
      "outputs": [
        {
          "output_type": "stream",
          "name": "stdout",
          "text": [
            "arr_ones1d: \n",
            "[1. 1. 1. 1.]\n",
            "\n",
            "arr_ones2d: \n",
            "[[1. 1. 1.]\n",
            " [1. 1. 1.]]\n",
            "\n",
            "arr_ones3d: \n",
            "[[[1. 1. 1. 1.]\n",
            "  [1. 1. 1. 1.]\n",
            "  [1. 1. 1. 1.]]\n",
            "\n",
            " [[1. 1. 1. 1.]\n",
            "  [1. 1. 1. 1.]\n",
            "  [1. 1. 1. 1.]]]\n",
            "\n"
          ]
        }
      ]
    },
    {
      "cell_type": "markdown",
      "source": [
        "### arange"
      ],
      "metadata": {
        "id": "uzO5vusdTjkh"
      }
    },
    {
      "cell_type": "code",
      "source": [
        "# 1D\n",
        "arr_1 = np.arange(10)\n",
        "print(f\"arr_1: \\n{arr_1}\\n\")\n",
        "arr_2 = np.arange(5, 10)\n",
        "print(f\"arr_2: \\n{arr_2}\\n\")\n",
        "arr_3 = np.arange(10, 0, -1)\n",
        "print(f\"arr_3: \\n{arr_3}\\n\")\n",
        "\n",
        "# 2D\n",
        "arr2 = np.arange(6).reshape(2,3)\n",
        "print(f\"arr2: \\n{arr2}\\n\")\n",
        "\n",
        "# 3D\n",
        "arr3 = np.arange(10, -2, -1, dtype=np.float32).reshape(3,2,2) # 3 blok, 2 baris, 2 kolom\n",
        "print(f\"arr3: \\n{arr3}\\n\")\n",
        "print(f\"dtype (before): {arr3.dtype}\\n\")\n",
        "\n",
        "arr3_2 = arr3.astype(np.int8)\n",
        "print(f\"arr3_2: \\n{arr3_2}\\n\")\n",
        "print(f\"dtype (after): {arr3_2.dtype}\\n\")"
      ],
      "metadata": {
        "colab": {
          "base_uri": "https://localhost:8080/"
        },
        "id": "y_IYicNS2Pu3",
        "outputId": "7fe40af4-a8df-48dc-d015-d26104ea92e7"
      },
      "execution_count": null,
      "outputs": [
        {
          "output_type": "stream",
          "name": "stdout",
          "text": [
            "arr_1: \n",
            "[0 1 2 3 4 5 6 7 8 9]\n",
            "\n",
            "arr_2: \n",
            "[5 6 7 8 9]\n",
            "\n",
            "arr_3: \n",
            "[10  9  8  7  6  5  4  3  2  1]\n",
            "\n",
            "arr2: \n",
            "[[0 1 2]\n",
            " [3 4 5]]\n",
            "\n",
            "arr3: \n",
            "[[[10.  9.]\n",
            "  [ 8.  7.]]\n",
            "\n",
            " [[ 6.  5.]\n",
            "  [ 4.  3.]]\n",
            "\n",
            " [[ 2.  1.]\n",
            "  [ 0. -1.]]]\n",
            "\n",
            "dtype (before): float32\n",
            "\n",
            "arr3_2: \n",
            "[[[10  9]\n",
            "  [ 8  7]]\n",
            "\n",
            " [[ 6  5]\n",
            "  [ 4  3]]\n",
            "\n",
            " [[ 2  1]\n",
            "  [ 0 -1]]]\n",
            "\n",
            "dtype (after): int8\n",
            "\n"
          ]
        }
      ]
    },
    {
      "cell_type": "markdown",
      "source": [
        "### linspace"
      ],
      "metadata": {
        "id": "21KjKbab-MpH"
      }
    },
    {
      "cell_type": "code",
      "source": [
        "# numpy.linspace : Fungsi untuk membuat array dengan jumlah titik tertentu yang merata jaraknya antara nilai awal dan akhir.\n",
        "# Beda dengan np.arange (yang pakai step), np.linspace pakai jumlah titik.\n",
        "\n",
        "# np.linspace(start, stop, num=50, endpoint=True, retstep=False, dtype=None)\n",
        "# start → nilai awal\n",
        "# stop → nilai akhir\n",
        "# num → jumlah titik (default = 50)\n",
        "# endpoint → kalau True, stop disertakan; kalau False, titik terakhir < stop\n",
        "# retstep → kalau True, juga mengembalikan jarak antar titik (step)\n",
        "# dtype → tipe data\n",
        "\n",
        "# arange(start, stop, step) → tentukan jarak antar titik (step), jumlah titik ditentukan otomatis.\n",
        "# linspace(start, stop, num) → tentukan jumlah titik, jaraknya otomatis dihitung.\n",
        "\n",
        "# 1D\n",
        "# 5 titik merata dari 0 sampai 1.\n",
        "arr_1 = np.linspace(0, 1, 5)\n",
        "print(f\"arr_1: \\n{arr_1}\\n\")\n",
        "\n",
        "# Masih 5 titik, tapi 1 tidak dimasukkan.\n",
        "arr_2 = np.linspace(0, 1, 5, endpoint=False)\n",
        "print(f\"arr_2: \\n{arr_2}\\n\")\n",
        "\n",
        "# Jarak antar titik = 0.25\n",
        "arr_3, step = np.linspace(0, 1, 5, retstep=True)\n",
        "print(f\"arr_3: \\n{arr_3}\\n\")\n",
        "\n",
        "# 2D\n",
        "arr2 = np.linspace(0, 1, 6).reshape(3, 2)\n",
        "print(f\"arr2: \\n{arr2}\\n\")\n",
        "\n",
        "# 3D\n",
        "arr3 = np.linspace(0, 1, 18).reshape(3, 2, 3)\n",
        "print(f\"arr2: \\n{arr3}\\n\")"
      ],
      "metadata": {
        "colab": {
          "base_uri": "https://localhost:8080/"
        },
        "id": "IZKDm0CB7SCg",
        "outputId": "c8b1904d-4c99-4ba7-eba7-92ef1ef8b7ce"
      },
      "execution_count": null,
      "outputs": [
        {
          "output_type": "stream",
          "name": "stdout",
          "text": [
            "arr_1: \n",
            "[0.   0.25 0.5  0.75 1.  ]\n",
            "\n",
            "arr_2: \n",
            "[0.  0.2 0.4 0.6 0.8]\n",
            "\n",
            "arr_3: \n",
            "[0.   0.25 0.5  0.75 1.  ]\n",
            "\n",
            "arr2: \n",
            "[[0.  0.2]\n",
            " [0.4 0.6]\n",
            " [0.8 1. ]]\n",
            "\n",
            "arr2: \n",
            "[[[0.         0.05882353 0.11764706]\n",
            "  [0.17647059 0.23529412 0.29411765]]\n",
            "\n",
            " [[0.35294118 0.41176471 0.47058824]\n",
            "  [0.52941176 0.58823529 0.64705882]]\n",
            "\n",
            " [[0.70588235 0.76470588 0.82352941]\n",
            "  [0.88235294 0.94117647 1.        ]]]\n",
            "\n"
          ]
        }
      ]
    },
    {
      "cell_type": "markdown",
      "source": [
        "### empty"
      ],
      "metadata": {
        "id": "fJltFoILt1Au"
      }
    },
    {
      "cell_type": "code",
      "source": [
        "# np.empty(): Fungsi untuk membuat array baru dengan ukuran tertentu. Isinya tidak diinisialisasi → artinya nilai di dalam array bisa berupa angka acak “sampah” yang sudah ada di memori. Sangat cepat karena NumPy tidak repot mengisi elemen.\n",
        "\n",
        "# Kapan menggunakan : Kalau kamu langsung akan mengisi array dengan nilai baru (misalnya lewat loop atau operasi). Supaya lebih efisien dan hemat waktu dibanding zeros. np.empty() aman dipakai kalau kamu langsung isi array dengan nilai baru. Kalau butuh nilai awal yang jelas (0, 1, atau random acak), sebaiknya jangan pakai ini.\n",
        "\n",
        "# np.zeros(shape)\n",
        "# → buat array dengan semua elemen 0. Lebih aman kalau butuh nilai awal jelas.Lebih lambat daripada empty() karena harus isi semua dengan nol.\n",
        "\n",
        "# np.ones(shape)\n",
        "# → buat array dengan semua elemen 1.\n",
        "\n",
        "# np.full(shape, fill_value)\n",
        "# → buat array dengan nilai tertentu.\n",
        "\n",
        "# np.empty(shape)\n",
        "# → buat array kosong, isinya tidak ditentukan.Lebih cepat.Cocok kalau nanti langsung menimpa semua elemen (misalnya lewat perhitungan).\n",
        "\n",
        "arr_e1 = np.empty((4,))\n",
        "print(f\"arr_e1: \\n{arr_e1}\\n\")\n",
        "\n",
        "arr_e2 = np.empty((2,3), dtype=np.float32)\n",
        "print(f\"arr_e2: \\n{arr_e2}\\n\")\n",
        "\n",
        "arr_e3 = np.empty((2,3,4), dtype=np.int8)\n",
        "print(f\"arr_e3: \\n{arr_e3}\\n\")"
      ],
      "metadata": {
        "colab": {
          "base_uri": "https://localhost:8080/"
        },
        "id": "Zed5lGZKt5LB",
        "outputId": "514c56a5-bbf9-4fa9-9c9f-755c58a459fd"
      },
      "execution_count": null,
      "outputs": [
        {
          "output_type": "stream",
          "name": "stdout",
          "text": [
            "arr_e1: \n",
            "[2.75443222e-315 0.00000000e+000 4.94065646e-324 6.54254384e-310]\n",
            "\n",
            "arr_e2: \n",
            "[[6.3298792e-19 0.0000000e+00 1.4012985e-45]\n",
            " [0.0000000e+00 2.8608226e-34 4.3204834e-41]]\n",
            "\n",
            "arr_e3: \n",
            "[[[ 55 -45  58  33]\n",
            "  [  0   0   0   0]\n",
            "  [  1   0   0   0]]\n",
            "\n",
            " [[  0   0   0   0]\n",
            "  [ 96  34 -66   7]\n",
            "  [112 120   0   0]]]\n",
            "\n"
          ]
        }
      ]
    },
    {
      "cell_type": "markdown",
      "source": [
        "### full"
      ],
      "metadata": {
        "id": "GOQXp1iiw5fk"
      }
    },
    {
      "cell_type": "code",
      "source": [
        "arr_f1 = np.full(2,5, dtype=np.complex64)\n",
        "print(f\"arr_f1: \\n{arr_f1}\\n\")\n",
        "\n",
        "arr_f2 = np.full((3,2), False, dtype=bool)\n",
        "print(f\"arr_f2: \\n{arr_f2}\\n\")\n",
        "\n",
        "arr_f3 = np.full((2,4,3), True, dtype=bool)\n",
        "print(f\"arr_f3: \\n{arr_f3}\\n\")"
      ],
      "metadata": {
        "colab": {
          "base_uri": "https://localhost:8080/"
        },
        "id": "hvIy7d8zw8C8",
        "outputId": "a80daba7-0467-4815-dbf9-56bbd748a214"
      },
      "execution_count": null,
      "outputs": [
        {
          "output_type": "stream",
          "name": "stdout",
          "text": [
            "arr_f1: \n",
            "[5.+0.j 5.+0.j]\n",
            "\n",
            "arr_f2: \n",
            "[[False False]\n",
            " [False False]\n",
            " [False False]]\n",
            "\n",
            "arr_f3: \n",
            "[[[ True  True  True]\n",
            "  [ True  True  True]\n",
            "  [ True  True  True]\n",
            "  [ True  True  True]]\n",
            "\n",
            " [[ True  True  True]\n",
            "  [ True  True  True]\n",
            "  [ True  True  True]\n",
            "  [ True  True  True]]]\n",
            "\n"
          ]
        }
      ]
    },
    {
      "cell_type": "markdown",
      "source": [
        "## iterating"
      ],
      "metadata": {
        "id": "8GhS9G7xybvy"
      }
    },
    {
      "cell_type": "markdown",
      "source": [
        "### Loop"
      ],
      "metadata": {
        "id": "0WLa2cYs3wse"
      }
    },
    {
      "cell_type": "code",
      "source": [
        "# 1D\n",
        "arr_1d = np.array([1,2,3,4])\n",
        "for i in arr_1d:\n",
        "  print(i)\n",
        "\n",
        "print()\n",
        "\n",
        "# 2D\n",
        "arr_2d = np.array(\n",
        "    [[100, 200],\n",
        "     [300, 400]]\n",
        ")\n",
        "# 1\n",
        "for row in arr_2d:\n",
        "  print(row)\n",
        "# 2\n",
        "for row in arr_2d:\n",
        "  for item in row:\n",
        "    print(item)\n",
        "\n",
        "print()\n",
        "\n",
        "# 3D\n",
        "arr_3d = np.array(\n",
        "    [[[1,2],\n",
        "      [3,4]],\n",
        "\n",
        "     [[5,6],\n",
        "     [7,8]]]\n",
        ")\n",
        "# 1\n",
        "for mat in arr_3d:\n",
        "  print(mat)\n",
        "\n",
        "# 2\n",
        "for mat in arr_3d:\n",
        "  for row in mat:\n",
        "    for item in row:\n",
        "      print(item)\n"
      ],
      "metadata": {
        "colab": {
          "base_uri": "https://localhost:8080/"
        },
        "id": "sGZlO4Ip3_LX",
        "outputId": "d0a09a09-fa51-480e-cfb9-aa5f90365690"
      },
      "execution_count": 9,
      "outputs": [
        {
          "output_type": "stream",
          "name": "stdout",
          "text": [
            "1\n",
            "2\n",
            "3\n",
            "4\n",
            "\n",
            "[100 200]\n",
            "[300 400]\n",
            "100\n",
            "200\n",
            "300\n",
            "400\n",
            "\n",
            "[[1 2]\n",
            " [3 4]]\n",
            "[[5 6]\n",
            " [7 8]]\n",
            "1\n",
            "2\n",
            "3\n",
            "4\n",
            "5\n",
            "6\n",
            "7\n",
            "8\n"
          ]
        }
      ]
    },
    {
      "cell_type": "markdown",
      "source": [
        "### nditer"
      ],
      "metadata": {
        "id": "od_gbXSGN5sz"
      }
    },
    {
      "cell_type": "code",
      "source": [
        "# 1D\n",
        "arr_1d = np.array([1,2,3,4])\n",
        "for i in np.nditer(arr_1d):\n",
        "  print(i)\n",
        "\n",
        "print()\n",
        "\n",
        "# 2D\n",
        "arr_2d = np.array(\n",
        "    [[100, 200],\n",
        "     [300, 400]]\n",
        ")\n",
        "for i in np.nditer(arr_2d):\n",
        "  print(i)\n",
        "\n",
        "print()\n",
        "\n",
        "# 3D\n",
        "arr_3d = np.array(\n",
        "    [[[1,2],\n",
        "      [3,4]],\n",
        "\n",
        "     [[5,6],\n",
        "     [7,8]]]\n",
        ")\n",
        "for i in np.nditer(arr_3d):\n",
        "  print(i)"
      ],
      "metadata": {
        "colab": {
          "base_uri": "https://localhost:8080/"
        },
        "id": "2B46BXeHODI9",
        "outputId": "efa916f2-8e63-4af4-fcbd-10f68d599b28"
      },
      "execution_count": 13,
      "outputs": [
        {
          "output_type": "stream",
          "name": "stdout",
          "text": [
            "1\n",
            "2\n",
            "3\n",
            "4\n",
            "\n",
            "100\n",
            "200\n",
            "300\n",
            "400\n",
            "\n",
            "1\n",
            "2\n",
            "3\n",
            "4\n",
            "5\n",
            "6\n",
            "7\n",
            "8\n"
          ]
        }
      ]
    },
    {
      "cell_type": "markdown",
      "source": [
        "### ndenumerate"
      ],
      "metadata": {
        "id": "qfjFjo6FOh3K"
      }
    },
    {
      "cell_type": "code",
      "source": [
        "# 1D\n",
        "arr_1d = np.array([1,2,3,4])\n",
        "for idx, item in np.ndenumerate(arr_1d):\n",
        "  print(idx, item)\n",
        "\n",
        "print()\n",
        "\n",
        "# 2D\n",
        "arr_2d = np.array(\n",
        "    [[100, 200],\n",
        "     [300, 400]]\n",
        ")\n",
        "for idx, item in np.ndenumerate(arr_2d):\n",
        "  print(idx, item)\n",
        "\n",
        "print()\n",
        "\n",
        "# 3D\n",
        "arr_3d = np.array(\n",
        "    [[[1,2],\n",
        "      [3,4]],\n",
        "\n",
        "     [[5,6],\n",
        "     [7,8]]]\n",
        ")\n",
        "for idx, item in np.ndenumerate(arr_3d):\n",
        "  print(idx, item)"
      ],
      "metadata": {
        "colab": {
          "base_uri": "https://localhost:8080/"
        },
        "id": "IObPNoMSOkDv",
        "outputId": "1b2cad6b-3638-4329-df17-3ec06e4bf989"
      },
      "execution_count": 19,
      "outputs": [
        {
          "output_type": "stream",
          "name": "stdout",
          "text": [
            "(0,) 1\n",
            "(1,) 2\n",
            "(2,) 3\n",
            "(3,) 4\n",
            "\n",
            "(0, 0) 100\n",
            "(0, 1) 200\n",
            "(1, 0) 300\n",
            "(1, 1) 400\n",
            "\n",
            "7\n",
            "(0, 0, 0) 1\n",
            "(0, 0, 1) 2\n",
            "(0, 1, 0) 3\n",
            "(0, 1, 1) 4\n",
            "(1, 0, 0) 5\n",
            "(1, 0, 1) 6\n",
            "(1, 1, 0) 7\n",
            "(1, 1, 1) 8\n"
          ]
        }
      ]
    },
    {
      "cell_type": "code",
      "source": [
        "image = np.arange(3*3*3).reshape(3,3,3)  # 3x3 pixel, 3 channel\n",
        "print(image)"
      ],
      "metadata": {
        "colab": {
          "base_uri": "https://localhost:8080/"
        },
        "id": "TSs5bvmtRHLQ",
        "outputId": "5f4cc5b8-cfed-45af-c8fc-1e45c4f33e17"
      },
      "execution_count": 20,
      "outputs": [
        {
          "output_type": "stream",
          "name": "stdout",
          "text": [
            "[[[ 0  1  2]\n",
            "  [ 3  4  5]\n",
            "  [ 6  7  8]]\n",
            "\n",
            " [[ 9 10 11]\n",
            "  [12 13 14]\n",
            "  [15 16 17]]\n",
            "\n",
            " [[18 19 20]\n",
            "  [21 22 23]\n",
            "  [24 25 26]]]\n"
          ]
        }
      ]
    },
    {
      "cell_type": "markdown",
      "source": [
        "## reshape"
      ],
      "metadata": {
        "id": "A8iV9WizRfzl"
      }
    },
    {
      "cell_type": "code",
      "source": [
        "a = np.array([1,2,3,4,5,6,7,8,9,10,11,12])\n",
        "a_2d = a.reshape(4,3)\n",
        "a_3d = a.reshape(3,2,2)\n",
        "print(f\"a:\\n{a}\\n\")\n",
        "print(f\"a_2d:\\n{a_2d}\\n\")\n",
        "print(f\"a_3d:\\n{a_3d}\\n\")\n",
        "\n",
        "b = np.arange(12).reshape(3, -1) # 3 baris, kolom dihitung otomatis\n",
        "print(f\"b:\\n{b}\\n\")\n",
        "\n",
        "c = np.arange(12).reshape(-1, 3) # 3 kolom, baris dihitung otomatis\n",
        "print(f\"c:\\n{c}\\n\")\n",
        "\n",
        "d = np.arange(18).reshape(3, -1, 2)\n",
        "print(f\"d:\\n{d}\\n\")\n"
      ],
      "metadata": {
        "colab": {
          "base_uri": "https://localhost:8080/"
        },
        "id": "goYGyzNaRh0O",
        "outputId": "b6a454fd-e56f-4e64-a1d1-26889f15bce6"
      },
      "execution_count": 27,
      "outputs": [
        {
          "output_type": "stream",
          "name": "stdout",
          "text": [
            "a:\n",
            "[ 1  2  3  4  5  6  7  8  9 10 11 12]\n",
            "\n",
            "a_2d:\n",
            "[[ 1  2  3]\n",
            " [ 4  5  6]\n",
            " [ 7  8  9]\n",
            " [10 11 12]]\n",
            "\n",
            "a_3d:\n",
            "[[[ 1  2]\n",
            "  [ 3  4]]\n",
            "\n",
            " [[ 5  6]\n",
            "  [ 7  8]]\n",
            "\n",
            " [[ 9 10]\n",
            "  [11 12]]]\n",
            "\n",
            "b:\n",
            "[[ 0  1  2  3]\n",
            " [ 4  5  6  7]\n",
            " [ 8  9 10 11]]\n",
            "\n",
            "c:\n",
            "[[ 0  1  2]\n",
            " [ 3  4  5]\n",
            " [ 6  7  8]\n",
            " [ 9 10 11]]\n",
            "\n",
            "d:\n",
            "[[[ 0  1]\n",
            "  [ 2  3]\n",
            "  [ 4  5]]\n",
            "\n",
            " [[ 6  7]\n",
            "  [ 8  9]\n",
            "  [10 11]]\n",
            "\n",
            " [[12 13]\n",
            "  [14 15]\n",
            "  [16 17]]]\n",
            "\n"
          ]
        }
      ]
    },
    {
      "cell_type": "markdown",
      "source": [
        "## concatenate\n",
        "Concatenate\n",
        "Menyambung array di dimensi yang sudah ada.\n",
        "Tidak menambah dimensi baru.\n",
        "👉 Bayangkan ada dua tali 👉 disambung jadi satu tali panjang.\n",
        "\n",
        "Stack\n",
        "Menggabungkan array dengan cara menambah dimensi baru.\n",
        "Beda dengan concatenate, karena hasilnya punya 1 dimensi ekstra.\n",
        "👉 Bayangkan dua kertas 👉 ditumpuk jadi setumpuk kertas (ada “ketebalan”).\n",
        "\n",
        "\n",
        "---\n",
        "\n",
        "\n",
        "Concatenate → sambung di dimensi lama.\n",
        "\n",
        "Stack → tambah dimensi baru.\n",
        "\n",
        "\n",
        "---\n",
        "\n",
        "\n",
        "Concatenate = menyambung jalan → lebih panjang tapi tetap 1 jalur.\n",
        "\n",
        "Stack = membangun lantai baru → tambah arah vertikal."
      ],
      "metadata": {
        "id": "AvOHmmtYUqoa"
      }
    },
    {
      "cell_type": "code",
      "source": [
        "# 1D\n",
        "arr1d_1 = np.array([1,2,3])\n",
        "arr1d_2 = np.array([4,5,6])\n",
        "arr_con1d = np.concatenate((arr1d_1, arr1d_2))\n",
        "print(f\"arr_con1d: {arr_con1d}\\n\")\n",
        "\n",
        "# 2D\n",
        "arr2d_1 = np.array(\n",
        "    [[1,2],\n",
        "     [3,4]]\n",
        ")\n",
        "arr2d_2 = np.array(\n",
        "    [[5,6],\n",
        "     [7,8]]\n",
        ")\n",
        "arr_con2d = np.concatenate((arr2d_1, arr2d_2))\n",
        "print(f\"arr_con2d:\\n{arr_con2d}\")\n",
        "\n",
        "# 3D"
      ],
      "metadata": {
        "id": "IpcTF3otVc7j",
        "outputId": "c52c3f3b-5477-40f9-a760-ab345a6f51d2",
        "colab": {
          "base_uri": "https://localhost:8080/"
        }
      },
      "execution_count": 37,
      "outputs": [
        {
          "output_type": "stream",
          "name": "stdout",
          "text": [
            "arr_con1d: [1 2 3 4 5 6]\n",
            "\n",
            "arr_con2d:\n",
            "[[1 2]\n",
            " [3 4]\n",
            " [5 6]\n",
            " [7 8]]\n"
          ]
        }
      ]
    },
    {
      "cell_type": "markdown",
      "source": [
        "## stacking"
      ],
      "metadata": {
        "id": "SfzqivW2XR7N"
      }
    },
    {
      "cell_type": "markdown",
      "source": [
        "### stack"
      ],
      "metadata": {
        "id": "mbC4_fZrbyrb"
      }
    },
    {
      "cell_type": "code",
      "source": [
        "# 1D\n",
        "arr1d_1 = np.array([1, 2, 3])\n",
        "arr1d_2 = np.array([4, 5, 6])\n",
        "arr1d_3 = np.array([7, 8, 9])\n",
        "\n",
        "# Stack arrays along a new axis\n",
        "stacked_arr_a0 = np.stack((arr1d_1, arr1d_2, arr1d_3), axis=0)\n",
        "print(f\"stacked_arr_a0:\\n{stacked_arr_a0}\")\n",
        "\n",
        "stacked_arr_a1 = np.stack((arr1d_1, arr1d_2, arr1d_3), axis=1)\n",
        "print(f\"stacked_arr_a1:\\n{stacked_arr_a1}\")\n",
        "\n",
        "# 2D\n",
        "\n"
      ],
      "metadata": {
        "id": "cdVuAWvpXRiN",
        "outputId": "22b465ec-a734-4183-f52b-210294bbfcc6",
        "colab": {
          "base_uri": "https://localhost:8080/"
        }
      },
      "execution_count": 44,
      "outputs": [
        {
          "output_type": "stream",
          "name": "stdout",
          "text": [
            "stacked_arr_a0:\n",
            "[[1 2 3]\n",
            " [4 5 6]\n",
            " [7 8 9]]\n",
            "stacked_arr_a1:\n",
            "[[1 4 7]\n",
            " [2 5 8]\n",
            " [3 6 9]]\n"
          ]
        }
      ]
    }
  ]
}