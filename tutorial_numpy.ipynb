{
  "nbformat": 4,
  "nbformat_minor": 0,
  "metadata": {
    "colab": {
      "provenance": [],
      "toc_visible": true,
      "authorship_tag": "ABX9TyPfsR98w5zaGWFH6c/Qm1d6",
      "include_colab_link": true
    },
    "kernelspec": {
      "name": "python3",
      "display_name": "Python 3"
    },
    "language_info": {
      "name": "python"
    }
  },
  "cells": [
    {
      "cell_type": "markdown",
      "metadata": {
        "id": "view-in-github",
        "colab_type": "text"
      },
      "source": [
        "<a href=\"https://colab.research.google.com/github/romiaprilian7406/tutorial-numpy/blob/main/tutorial_numpy.ipynb\" target=\"_parent\"><img src=\"https://colab.research.google.com/assets/colab-badge.svg\" alt=\"Open In Colab\"/></a>"
      ]
    },
    {
      "cell_type": "markdown",
      "source": [
        "# Numpy Version"
      ],
      "metadata": {
        "id": "p6Nc67nBs-rX"
      }
    },
    {
      "cell_type": "code",
      "source": [
        "import numpy as np\n",
        "\n",
        "print(f\"numpy version: {np.__version__}\")"
      ],
      "metadata": {
        "colab": {
          "base_uri": "https://localhost:8080/"
        },
        "collapsed": true,
        "id": "cYJZGJOUyk8Y",
        "outputId": "dd44363e-8364-4bcf-9671-dfd3f116706c"
      },
      "execution_count": null,
      "outputs": [
        {
          "output_type": "stream",
          "name": "stdout",
          "text": [
            "numpy version: 2.0.2\n"
          ]
        }
      ]
    },
    {
      "cell_type": "markdown",
      "source": [
        "# Ndarray"
      ],
      "metadata": {
        "id": "YNHY0IjrtLBs"
      }
    },
    {
      "cell_type": "code",
      "source": [
        "import numpy as np\n",
        "\n",
        "# 1D (Vektor)\n",
        "arr_1d = np.array([1, 2, 3])\n",
        "print(f\"arr_1d: {arr_1d}\")\n",
        "print(f\"ndim: {arr_1d.ndim}\")\n",
        "print(f\"shape: {arr_1d.shape}\\n\")\n",
        "\n",
        "# 2D (Matriks)\n",
        "arr_2d = np.array([[1, 2], [3, 4], [5, 6]])\n",
        "print(f\"arr_2d: \\n{arr_2d}\")\n",
        "print(f\"ndim: {arr_2d.ndim}\")\n",
        "print(f\"shape: {arr_2d.shape}\\n\")\n",
        "\n",
        "# 3D (Tensor)\n",
        "arr_3d = np.array([[[1, 2, 3], [4, 5, 6]], [[7, 8, 9], [10, 11, 12]]])\n",
        "print(f\"arr_3d: \\n{arr_3d}\")\n",
        "print(f\"ndim: {arr_3d.ndim}\")\n",
        "print(f\"shape: {arr_3d.shape}\\n\")\n",
        "\n",
        "# specify minimum dimension\n",
        "arr_ndmin = np.array([1, 2, 3, 4, 5], ndmin=3)\n",
        "print(f\"arr_ndmin: \\n{arr_ndmin}\\n\")\n",
        "\n",
        "# specify data type\n",
        "arr_dtype = np.array([1, 2, 3, 4, 5], dtype=np.float32)\n",
        "print(f\"arr_dtype: \\n{arr_dtype}\\n\")"
      ],
      "metadata": {
        "colab": {
          "base_uri": "https://localhost:8080/"
        },
        "collapsed": true,
        "id": "vy411zCU16Y4",
        "outputId": "8fe1d783-f12c-4947-f2b3-8b81f4162d5b"
      },
      "execution_count": null,
      "outputs": [
        {
          "output_type": "stream",
          "name": "stdout",
          "text": [
            "arr_1d: [1 2 3]\n",
            "ndim: 1\n",
            "shape: (3,)\n",
            "\n",
            "arr_2d: \n",
            "[[1 2]\n",
            " [3 4]\n",
            " [5 6]]\n",
            "ndim: 2\n",
            "shape: (3, 2)\n",
            "\n",
            "arr_3d: \n",
            "[[[ 1  2  3]\n",
            "  [ 4  5  6]]\n",
            "\n",
            " [[ 7  8  9]\n",
            "  [10 11 12]]]\n",
            "ndim: 3\n",
            "shape: (2, 2, 3)\n",
            "\n",
            "arr_ndmin: \n",
            "[[[1 2 3 4 5]]]\n",
            "\n",
            "arr_dtype: \n",
            "[1. 2. 3. 4. 5.]\n",
            "\n"
          ]
        }
      ]
    },
    {
      "cell_type": "markdown",
      "source": [
        "# Data Types\n",
        "Data Types & Description\n",
        "1. bool_ : Boolean (True or False) stored as a byte\n",
        "\n",
        "2. int_ : Default integer type (same as C long; normally either int64 or int32)\n",
        "\n",
        "3. intc : Identical to C int (normally int32 or int64)\n",
        "\n",
        "4. intp : Integer used for indexing (same as C ssize_t; normally either int32 or int64)\n",
        "\n",
        "5. int8 : Byte (-128 to 127)\n",
        "\n",
        "6. int16 : Integer (-32768 to 32767)\n",
        "\n",
        "7. int32 : Integer (-2147483648 to 2147483647)\n",
        "\n",
        "8. int64 : Integer (-9223372036854775808 to 9223372036854775807)\n",
        "\n",
        "9. uint8 : Unsigned integer (0 to 255)\n",
        "\n",
        "10. uint16 : Unsigned integer (0 to 65535)\n",
        "\n",
        "11. uint32 : Unsigned integer (0 to 4294967295)\n",
        "\n",
        "12. uint64 : Unsigned integer (0 to 18446744073709551615)\n",
        "\n",
        "13. float_ : Shorthand for float64\n",
        "\n",
        "14. float16 : Half precision float: sign bit, 5 bits exponent, 10 bits mantissa\n",
        "\n",
        "15. float32 : Single precision float: sign bit, 8 bits exponent, 23 bits mantissa\n",
        "\n",
        "16. float64 : Double precision float: sign bit, 11 bits exponent, 52 bits mantissa\n",
        "\n",
        "17. complex_ : Shorthand for complex128\n",
        "\n",
        "18. complex64 : Complex number, represented by two 32-bit floats (real and imaginary components)\n",
        "\n",
        "19. complex128 : Complex number, represented by two 64-bit floats (real and imaginary components)"
      ],
      "metadata": {
        "id": "EpSy2kXVwxEm"
      }
    },
    {
      "cell_type": "code",
      "source": [
        "import numpy as np\n",
        "\n",
        "# Create Arrays With Defined Data Type\n",
        "arr_dt = np.array([1, 2, 3], dtype=np.int64)\n",
        "print(f\"arr_dt: \\n{arr_dt}\")\n",
        "print(f\"dtype: {arr_dt.dtype}\\n\")\n",
        "\n",
        "# Convert Data Type of NumPy Arrays\n",
        "# Metode astype membuat salinan array dan mengonversinya ke tipe data yang ditentukan. Ini adalah metode yang paling sering digunakan untuk mengubah tipe data array.\n",
        "arr_cdt = arr_dt.astype(np.float32)\n",
        "print(f\"arr_cdt: \\n{arr_cdt}\")\n",
        "print(f\"dtype: {arr_cdt.dtype}\\n\")"
      ],
      "metadata": {
        "colab": {
          "base_uri": "https://localhost:8080/"
        },
        "collapsed": true,
        "id": "flVpeM8qx4kH",
        "outputId": "24e6b3aa-9344-4d89-e0e5-882ec2c5b84a"
      },
      "execution_count": null,
      "outputs": [
        {
          "output_type": "stream",
          "name": "stdout",
          "text": [
            "arr_dt: \n",
            "[1 2 3]\n",
            "dtype: int64\n",
            "\n",
            "arr_cdt: \n",
            "[1. 2. 3.]\n",
            "dtype: float32\n",
            "\n"
          ]
        }
      ]
    },
    {
      "cell_type": "markdown",
      "source": [
        "# Creating and Manipulating"
      ],
      "metadata": {
        "id": "CyOSV7is0FXh"
      }
    },
    {
      "cell_type": "markdown",
      "source": [
        "## Cretion Routines\n",
        "numpy.array() Function\n",
        "\n",
        "numpy.zeros() Function\n",
        "\n",
        "numpy.ones() Function\n",
        "\n",
        "numpy.arange() Function\n",
        "\n",
        "numpy.linspace() Function\n",
        "\n",
        "numpy.random.rand() Function\n",
        "\n",
        "numpy.empty() Function\n",
        "\n",
        "numpy.full() Function"
      ],
      "metadata": {
        "id": "sfFe2_tr0K32"
      }
    },
    {
      "cell_type": "markdown",
      "source": [
        "### zeros"
      ],
      "metadata": {
        "id": "77ndLX-1-Cij"
      }
    },
    {
      "cell_type": "code",
      "source": [
        "import numpy as np\n",
        "\n",
        "arr_zeros1d = np.zeros(4)\n",
        "print(f\"arr_zeros1d: \\n{arr_zeros1d}\\n\")\n",
        "\n",
        "arr_zeros2d = np.zeros([2,3])\n",
        "print(f\"arr_zeros2d: \\n{arr_zeros2d}\\n\")\n",
        "\n",
        "arr_zeros3d = np.zeros([2,3,4])\n",
        "print(f\"arr_zeros3d: \\n{arr_zeros3d}\\n\")"
      ],
      "metadata": {
        "colab": {
          "base_uri": "https://localhost:8080/"
        },
        "id": "p0Jkwhci1DOr",
        "outputId": "75a03ccf-cd0e-479b-88dc-819d89108f89"
      },
      "execution_count": null,
      "outputs": [
        {
          "output_type": "stream",
          "name": "stdout",
          "text": [
            "arr_zeros1d: \n",
            "[0. 0. 0. 0.]\n",
            "\n",
            "arr_zeros2d: \n",
            "[[0. 0. 0.]\n",
            " [0. 0. 0.]]\n",
            "\n",
            "arr_zeros3d: \n",
            "[[[0. 0. 0. 0.]\n",
            "  [0. 0. 0. 0.]\n",
            "  [0. 0. 0. 0.]]\n",
            "\n",
            " [[0. 0. 0. 0.]\n",
            "  [0. 0. 0. 0.]\n",
            "  [0. 0. 0. 0.]]]\n",
            "\n"
          ]
        }
      ]
    },
    {
      "cell_type": "markdown",
      "source": [
        "### ones"
      ],
      "metadata": {
        "id": "KyBud2Pz-G94"
      }
    },
    {
      "cell_type": "code",
      "source": [
        "import numpy as np\n",
        "\n",
        "arr_ones1d = np.ones(4)\n",
        "print(f\"arr_ones1d: \\n{arr_ones1d}\\n\")\n",
        "\n",
        "arr_ones2d = np.ones([2,3])\n",
        "print(f\"arr_ones2d: \\n{arr_ones2d}\\n\")\n",
        "\n",
        "arr_ones3d = np.ones([2,3,4])\n",
        "print(f\"arr_ones3d: \\n{arr_ones3d}\\n\")"
      ],
      "metadata": {
        "colab": {
          "base_uri": "https://localhost:8080/"
        },
        "id": "slXmH4eB1-F7",
        "outputId": "e92c7d05-f4c3-461c-ebe2-2557356dbff4"
      },
      "execution_count": null,
      "outputs": [
        {
          "output_type": "stream",
          "name": "stdout",
          "text": [
            "arr_ones1d: \n",
            "[1. 1. 1. 1.]\n",
            "\n",
            "arr_ones2d: \n",
            "[[1. 1. 1.]\n",
            " [1. 1. 1.]]\n",
            "\n",
            "arr_ones3d: \n",
            "[[[1. 1. 1. 1.]\n",
            "  [1. 1. 1. 1.]\n",
            "  [1. 1. 1. 1.]]\n",
            "\n",
            " [[1. 1. 1. 1.]\n",
            "  [1. 1. 1. 1.]\n",
            "  [1. 1. 1. 1.]]]\n",
            "\n"
          ]
        }
      ]
    },
    {
      "cell_type": "code",
      "source": [
        "import numpy as np\n",
        "\n",
        "# 1D\n",
        "arr_1 = np.arange(10)\n",
        "print(f\"arr_1: \\n{arr_1}\\n\")\n",
        "arr_2 = np.arange(5, 10)\n",
        "print(f\"arr_2: \\n{arr_2}\\n\")\n",
        "arr_3 = np.arange(10, 0, -1)\n",
        "print(f\"arr_3: \\n{arr_3}\\n\")\n",
        "\n",
        "# 2D\n",
        "arr2 = np.arange(6).reshape(2,3)\n",
        "print(f\"arr2: \\n{arr2}\\n\")\n",
        "\n",
        "# 3D\n",
        "arr3 = np.arange(10, -2, -1, dtype=np.float32).reshape(3,2,2) # 3 blok, 2 baris, 2 kolom\n",
        "print(f\"arr3: \\n{arr3}\\n\")\n",
        "print(f\"dtype (before): {arr3.dtype}\\n\")\n",
        "\n",
        "arr3_2 = arr3.astype(np.int8)\n",
        "print(f\"arr3_2: \\n{arr3_2}\\n\")\n",
        "print(f\"dtype (after): {arr3_2.dtype}\\n\")\n",
        "\n",
        "arr_"
      ],
      "metadata": {
        "colab": {
          "base_uri": "https://localhost:8080/"
        },
        "id": "y_IYicNS2Pu3",
        "outputId": "b65cc12b-0865-4fa2-a85a-697c5a246902"
      },
      "execution_count": null,
      "outputs": [
        {
          "output_type": "stream",
          "name": "stdout",
          "text": [
            "arr_1: \n",
            "[0 1 2 3 4 5 6 7 8 9]\n",
            "\n",
            "arr_2: \n",
            "[5 6 7 8 9]\n",
            "\n",
            "arr_3: \n",
            "[10  9  8  7  6  5  4  3  2  1]\n",
            "\n",
            "arr2: \n",
            "[[0 1 2]\n",
            " [3 4 5]]\n",
            "\n",
            "arr3: \n",
            "[[[10.  9.]\n",
            "  [ 8.  7.]]\n",
            "\n",
            " [[ 6.  5.]\n",
            "  [ 4.  3.]]\n",
            "\n",
            " [[ 2.  1.]\n",
            "  [ 0. -1.]]]\n",
            "\n",
            "dtype (before): float32\n",
            "\n",
            "arr3_2: \n",
            "[[[10  9]\n",
            "  [ 8  7]]\n",
            "\n",
            " [[ 6  5]\n",
            "  [ 4  3]]\n",
            "\n",
            " [[ 2  1]\n",
            "  [ 0 -1]]]\n",
            "\n",
            "dtype (after): int8\n"
          ]
        }
      ]
    },
    {
      "cell_type": "markdown",
      "source": [
        "### linspace"
      ],
      "metadata": {
        "id": "21KjKbab-MpH"
      }
    },
    {
      "cell_type": "code",
      "source": [
        "# numpy.linspace : Fungsi untuk membuat array dengan jumlah titik tertentu yang merata jaraknya antara nilai awal dan akhir.\n",
        "# Beda dengan np.arange (yang pakai step), np.linspace pakai jumlah titik.\n",
        "\n",
        "# np.linspace(start, stop, num=50, endpoint=True, retstep=False, dtype=None)\n",
        "# start → nilai awal\n",
        "# stop → nilai akhir\n",
        "# num → jumlah titik (default = 50)\n",
        "# endpoint → kalau True, stop disertakan; kalau False, titik terakhir < stop\n",
        "# retstep → kalau True, juga mengembalikan jarak antar titik (step)\n",
        "# dtype → tipe data\n",
        "\n",
        "# arange(start, stop, step) → tentukan jarak antar titik (step), jumlah titik ditentukan otomatis.\n",
        "# linspace(start, stop, num) → tentukan jumlah titik, jaraknya otomatis dihitung.\n",
        "\n",
        "import numpy as np\n",
        "\n",
        "# 1D\n",
        "# 5 titik merata dari 0 sampai 1.\n",
        "arr_1 = np.linspace(0, 1, 5)\n",
        "print(f\"arr_1: \\n{arr_1}\\n\")\n",
        "\n",
        "# Masih 5 titik, tapi 1 tidak dimasukkan.\n",
        "arr_2 = np.linspace(0, 1, 5, endpoint=False)\n",
        "print(f\"arr_2: \\n{arr_2}\\n\")\n",
        "\n",
        "# Jarak antar titik = 0.25\n",
        "arr_3, step = np.linspace(0, 1, 5, retstep=True)\n",
        "print(f\"arr_3: \\n{arr_3}\\n\")\n",
        "\n",
        "# 2D\n",
        "arr2 = np.linspace(0, 1, 6).reshape(3, 2)\n",
        "print(f\"arr2: \\n{arr2}\\n\")\n",
        "\n",
        "# 3D\n",
        "arr3 = np.linspace(0, 1, 18).reshape(3, 2, 3)\n",
        "print(f\"arr2: \\n{arr3}\\n\")"
      ],
      "metadata": {
        "colab": {
          "base_uri": "https://localhost:8080/"
        },
        "id": "IZKDm0CB7SCg",
        "outputId": "c8b1904d-4c99-4ba7-eba7-92ef1ef8b7ce"
      },
      "execution_count": null,
      "outputs": [
        {
          "output_type": "stream",
          "name": "stdout",
          "text": [
            "arr_1: \n",
            "[0.   0.25 0.5  0.75 1.  ]\n",
            "\n",
            "arr_2: \n",
            "[0.  0.2 0.4 0.6 0.8]\n",
            "\n",
            "arr_3: \n",
            "[0.   0.25 0.5  0.75 1.  ]\n",
            "\n",
            "arr2: \n",
            "[[0.  0.2]\n",
            " [0.4 0.6]\n",
            " [0.8 1. ]]\n",
            "\n",
            "arr2: \n",
            "[[[0.         0.05882353 0.11764706]\n",
            "  [0.17647059 0.23529412 0.29411765]]\n",
            "\n",
            " [[0.35294118 0.41176471 0.47058824]\n",
            "  [0.52941176 0.58823529 0.64705882]]\n",
            "\n",
            " [[0.70588235 0.76470588 0.82352941]\n",
            "  [0.88235294 0.94117647 1.        ]]]\n",
            "\n"
          ]
        }
      ]
    }
  ]
}