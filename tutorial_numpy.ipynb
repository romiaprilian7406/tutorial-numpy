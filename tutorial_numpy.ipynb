{
  "nbformat": 4,
  "nbformat_minor": 0,
  "metadata": {
    "colab": {
      "provenance": [],
      "toc_visible": true,
      "authorship_tag": "ABX9TyP+lH6IgbnAGgZ1/r/bx0us",
      "include_colab_link": true
    },
    "kernelspec": {
      "name": "python3",
      "display_name": "Python 3"
    },
    "language_info": {
      "name": "python"
    }
  },
  "cells": [
    {
      "cell_type": "markdown",
      "metadata": {
        "id": "view-in-github",
        "colab_type": "text"
      },
      "source": [
        "<a href=\"https://colab.research.google.com/github/romiaprilian7406/tutorial-numpy/blob/main/tutorial_numpy.ipynb\" target=\"_parent\"><img src=\"https://colab.research.google.com/assets/colab-badge.svg\" alt=\"Open In Colab\"/></a>"
      ]
    },
    {
      "cell_type": "markdown",
      "source": [
        "# Numpy Version"
      ],
      "metadata": {
        "id": "p6Nc67nBs-rX"
      }
    },
    {
      "cell_type": "code",
      "source": [
        "import numpy as np\n",
        "\n",
        "print(f\"numpy version: {np.__version__}\")"
      ],
      "metadata": {
        "colab": {
          "base_uri": "https://localhost:8080/"
        },
        "collapsed": true,
        "id": "cYJZGJOUyk8Y",
        "outputId": "448b7584-7c77-40e6-c179-59dbcef88582"
      },
      "execution_count": 85,
      "outputs": [
        {
          "output_type": "stream",
          "name": "stdout",
          "text": [
            "numpy version: 2.0.2\n"
          ]
        }
      ]
    },
    {
      "cell_type": "markdown",
      "source": [
        "# Ndarray"
      ],
      "metadata": {
        "id": "YNHY0IjrtLBs"
      }
    },
    {
      "cell_type": "code",
      "source": [
        "# 1D (Vektor)\n",
        "arr_1d = np.array([1, 2, 3])\n",
        "print(f\"arr_1d: {arr_1d}\")\n",
        "print(f\"ndim: {arr_1d.ndim}\")\n",
        "print(f\"shape: {arr_1d.shape}\\n\")\n",
        "\n",
        "# 2D (Matriks)\n",
        "arr_2d = np.array([[1, 2], [3, 4], [5, 6]])\n",
        "print(f\"arr_2d: \\n{arr_2d}\")\n",
        "print(f\"ndim: {arr_2d.ndim}\")\n",
        "print(f\"shape: {arr_2d.shape}\\n\")\n",
        "\n",
        "# 3D (Tensor)\n",
        "arr_3d = np.array([[[1, 2, 3], [4, 5, 6]], [[7, 8, 9], [10, 11, 12]]])\n",
        "print(f\"arr_3d: \\n{arr_3d}\")\n",
        "print(f\"ndim: {arr_3d.ndim}\")\n",
        "print(f\"shape: {arr_3d.shape}\\n\")\n",
        "\n",
        "# specify minimum dimension\n",
        "arr_ndmin = np.array([1, 2, 3, 4, 5], ndmin=3)\n",
        "print(f\"arr_ndmin: \\n{arr_ndmin}\\n\")\n",
        "\n",
        "# specify data type\n",
        "arr_dtype = np.array([1, 2, 3, 4, 5], dtype=np.float32)\n",
        "print(f\"arr_dtype: \\n{arr_dtype}\\n\")"
      ],
      "metadata": {
        "colab": {
          "base_uri": "https://localhost:8080/"
        },
        "collapsed": true,
        "id": "vy411zCU16Y4",
        "outputId": "cbd0c20b-2e0d-4161-9931-fa089c30feb8"
      },
      "execution_count": 4,
      "outputs": [
        {
          "output_type": "stream",
          "name": "stdout",
          "text": [
            "arr_1d: [1 2 3]\n",
            "ndim: 1\n",
            "shape: (3,)\n",
            "\n",
            "arr_2d: \n",
            "[[1 2]\n",
            " [3 4]\n",
            " [5 6]]\n",
            "ndim: 2\n",
            "shape: (3, 2)\n",
            "\n",
            "arr_3d: \n",
            "[[[ 1  2  3]\n",
            "  [ 4  5  6]]\n",
            "\n",
            " [[ 7  8  9]\n",
            "  [10 11 12]]]\n",
            "ndim: 3\n",
            "shape: (2, 2, 3)\n",
            "\n",
            "arr_ndmin: \n",
            "[[[1 2 3 4 5]]]\n",
            "\n",
            "arr_dtype: \n",
            "[1. 2. 3. 4. 5.]\n",
            "\n"
          ]
        }
      ]
    },
    {
      "cell_type": "markdown",
      "source": [
        "# Data Types\n",
        "Data Types & Description\n",
        "1. bool_ : Boolean (True or False) stored as a byte\n",
        "\n",
        "2. int_ : Default integer type (same as C long; normally either int64 or int32)\n",
        "\n",
        "3. intc : Identical to C int (normally int32 or int64)\n",
        "\n",
        "4. intp : Integer used for indexing (same as C ssize_t; normally either int32 or int64)\n",
        "\n",
        "5. int8 : Byte (-128 to 127)\n",
        "\n",
        "6. int16 : Integer (-32768 to 32767)\n",
        "\n",
        "7. int32 : Integer (-2147483648 to 2147483647)\n",
        "\n",
        "8. int64 : Integer (-9223372036854775808 to 9223372036854775807)\n",
        "\n",
        "9. uint8 : Unsigned integer (0 to 255)\n",
        "\n",
        "10. uint16 : Unsigned integer (0 to 65535)\n",
        "\n",
        "11. uint32 : Unsigned integer (0 to 4294967295)\n",
        "\n",
        "12. uint64 : Unsigned integer (0 to 18446744073709551615)\n",
        "\n",
        "13. float_ : Shorthand for float64\n",
        "\n",
        "14. float16 : Half precision float: sign bit, 5 bits exponent, 10 bits mantissa\n",
        "\n",
        "15. float32 : Single precision float: sign bit, 8 bits exponent, 23 bits mantissa\n",
        "\n",
        "16. float64 : Double precision float: sign bit, 11 bits exponent, 52 bits mantissa\n",
        "\n",
        "17. complex_ : Shorthand for complex128\n",
        "\n",
        "18. complex64 : Complex number, represented by two 32-bit floats (real and imaginary components)\n",
        "\n",
        "19. complex128 : Complex number, represented by two 64-bit floats (real and imaginary components)"
      ],
      "metadata": {
        "id": "EpSy2kXVwxEm"
      }
    },
    {
      "cell_type": "code",
      "source": [
        "# Create Arrays With Defined Data Type\n",
        "arr_dt = np.array([1, 2, 3], dtype=np.int64)\n",
        "print(f\"arr_dt: \\n{arr_dt}\")\n",
        "print(f\"dtype: {arr_dt.dtype}\\n\")\n",
        "\n",
        "# Convert Data Type of NumPy Arrays\n",
        "# Metode astype membuat salinan array dan mengonversinya ke tipe data yang ditentukan. Ini adalah metode yang paling sering digunakan untuk mengubah tipe data array.\n",
        "arr_cdt = arr_dt.astype(np.float32)\n",
        "print(f\"arr_cdt: \\n{arr_cdt}\")\n",
        "print(f\"dtype: {arr_cdt.dtype}\\n\")"
      ],
      "metadata": {
        "colab": {
          "base_uri": "https://localhost:8080/"
        },
        "collapsed": true,
        "id": "flVpeM8qx4kH",
        "outputId": "24e6b3aa-9344-4d89-e0e5-882ec2c5b84a"
      },
      "execution_count": null,
      "outputs": [
        {
          "output_type": "stream",
          "name": "stdout",
          "text": [
            "arr_dt: \n",
            "[1 2 3]\n",
            "dtype: int64\n",
            "\n",
            "arr_cdt: \n",
            "[1. 2. 3.]\n",
            "dtype: float32\n",
            "\n"
          ]
        }
      ]
    },
    {
      "cell_type": "markdown",
      "source": [
        "# axis"
      ],
      "metadata": {
        "id": "PZBG8kLpB79E"
      }
    },
    {
      "cell_type": "code",
      "source": [
        "# along different rows (baris)\n",
        "# along different columns (kolom)\n",
        "\n",
        "# 1D\n",
        "# axis : 0 -> vektor\n",
        "\n",
        "# 2D\n",
        "# axis : 0 -> baris\n",
        "# axis : 1 -> kolom\n",
        "\n",
        "# 3D\n",
        "# axis : 0 -> along different 2D arrays\n",
        "# axis : 1 -> along different rows in each 2D arrays\n",
        "# axis : 2 -> along different columns in each 2D arrays\n",
        "\n",
        "# 4D\n",
        "# axis : 0 -> along different 3D arrays\n",
        "# axis : 1 -> along different 2D arrays in each 3D arrays\n",
        "# axis : 2 -> along different rows in each 2D arrays\n",
        "# axis : 3 -> along different columns in each 2D arrays\n",
        "\n",
        "# 5D\n",
        "# axis : 0 -> along different 4D arrays\n",
        "# axis : 1 -> along different 3D arrays in each 4D arrays\n",
        "# axis : 2 -> along different 2D arrays in each 3D arrays\n",
        "# axis : 3 -> along different rows in each 2D arrays\n",
        "# axis : 4 -> along different columns in each 2D arrays\n",
        "\n",
        "# 1D\n",
        "a = np.array([1,2,3,4,5])\n",
        "print(f\"a: {a}\")\n",
        "a_sum_a0 = np.sum(a, axis=0)\n",
        "print(f\"a_sum_a0: {a_sum_a0}\\n\")\n",
        "\n",
        "# 2D\n",
        "x = np.array(\n",
        "    [[1, 2, 3],\n",
        "    [10, 20, 30],]\n",
        ")\n",
        "\n",
        "x_sum = np.sum(x)\n",
        "print(f\"x: \\n{x}\")\n",
        "print(f\"x_sum: {x_sum}\")\n",
        "\n",
        "# axis = 0 (baris)\n",
        "x_sum_a0 = np.sum(x, axis=0)\n",
        "print(f\"x_sum_a0: {x_sum_a0}\")\n",
        "\n",
        "# axis = 1 (kolom)\n",
        "x_sum_a1 = np.sum(x, axis=1)\n",
        "print(f\"x_sum_a1: {x_sum_a1}\\n\")\n",
        "\n",
        "# 3D\n",
        "y = np.array(\n",
        "    [[[1,2],\n",
        "      [3,4]],\n",
        "\n",
        "     [[5,6],\n",
        "     [7,8]]]\n",
        ")\n",
        "print(f\"y: \\n{y}\\n\")\n",
        "\n",
        "y_sum_a0 = np.sum(y, axis=0) # matriks\n",
        "print(f\"y_sum_a0: \\n{y_sum_a0}\\n\")\n",
        "\n",
        "y_sum_a1 = np.sum(y, axis=1) # baris\n",
        "print(f\"y_sum_a1: \\n{y_sum_a1}\\n\")\n",
        "\n",
        "y_sum_a2 = np.sum(y, axis=2) # kolom\n",
        "print(f\"y_sum_a2: \\n{y_sum_a2}\")"
      ],
      "metadata": {
        "colab": {
          "base_uri": "https://localhost:8080/"
        },
        "id": "qVjxqYWEB_Jt",
        "outputId": "e2e16522-0fdc-44ed-852c-85def29e055d"
      },
      "execution_count": null,
      "outputs": [
        {
          "output_type": "stream",
          "name": "stdout",
          "text": [
            "a: [1 2 3 4 5]\n",
            "a_sum_a0: 15\n",
            "\n",
            "x: \n",
            "[[ 1  2  3]\n",
            " [10 20 30]]\n",
            "x_sum: 66\n",
            "x_sum_a0: [11 22 33]\n",
            "x_sum_a1: [ 6 60]\n",
            "\n",
            "y: \n",
            "[[[1 2]\n",
            "  [3 4]]\n",
            "\n",
            " [[5 6]\n",
            "  [7 8]]]\n",
            "\n",
            "y_sum_a0: \n",
            "[[ 6  8]\n",
            " [10 12]]\n",
            "\n",
            "y_sum_a1: \n",
            "[[ 4  6]\n",
            " [12 14]]\n",
            "\n",
            "y_sum_a2: \n",
            "[[ 3  7]\n",
            " [11 15]]\n"
          ]
        }
      ]
    },
    {
      "cell_type": "markdown",
      "source": [
        "# copies vs views\n",
        "\n",
        "copy\n",
        "generates a new array and copies the data from the original array into this new array. When you create a copy of an array in NumPy, the data is fully duplicated. This means that changes made to the copy do not affect the original array, and vice versa. Copies are useful when you need to work with a modified version of an array without altering the original data.\n",
        "\n",
        "1. Buat array baru di memori.\n",
        "2. Data asli tidak terhubung.\n",
        "3. Perubahan di copy tidak memengaruhi array asli.\n",
        "\n",
        "shallow copy (view)\n",
        "A shallow copy of an array creates a new array object, but it does not create copies of the elements contained within the original array if those elements themselves are arrays or other complex objects.Instead, the new array still references the same elements as the original array. This means that changes to the contents of the elements will affect both the original and the copied array.\n",
        "\n",
        "1. Hanya salin metadata array (shape, strides, dtype), bukan datanya.\n",
        "2. Kedua array menunjuk ke buffer memori yang sama.\n",
        "3. Perubahan di satu array terlihat di lainnya.\n",
        "\n",
        "\n",
        "\n",
        "---\n",
        "\n",
        "\n",
        "Operasi                 View / Copy\n",
        "\n",
        "Slicing (a[2:5])\t         View\n",
        "\n",
        "Reshape (jika mungkin)\t   View\n",
        "\n",
        "Transpose .T\t             View\n",
        "\n",
        "Ravel (kadang)\t           View\n",
        "\n",
        "Fancy indexing [ [0,2] ]\t Copy\n",
        "\n",
        "Boolean indexing\t         Copy\n",
        "\n",
        ".copy()\t                   Copy\n",
        "\n",
        "astype()\t                 Copy\n",
        "\n",
        "np.array(..., copy=True)\t Copy\n",
        "\n",
        "np.asarray(...)\t           View (jika bisa)\n",
        "\n",
        "\n",
        "---\n",
        "\n",
        "\n",
        ".base : Mengecek apakah sebuah array copy atau view\n",
        "1. Kalau arr.base is None → berarti array asli.\n",
        "2. Kalau arr.base menunjuk ke array lain → berarti view dari array itu."
      ],
      "metadata": {
        "id": "zv_U-CHtPqq0"
      }
    },
    {
      "cell_type": "code",
      "source": [
        "\n",
        "\n",
        "# ====== copy ======\n",
        "# original\n",
        "arr_og1 = np.array([1,2,3])\n",
        "\n",
        "# copy\n",
        "arr_copied1 = arr_og1.copy()\n",
        "arr_copied1[1] = 10\n",
        "\n",
        "print(f\"arr_og1: {arr_og1}\")\n",
        "print(f\"arr_og1.base: {arr_og1.base}\")\n",
        "print(f\"arr_copied1: {arr_copied1}\")\n",
        "print(f\"arr_copied1.base: {arr_copied1.base}\\n\")\n",
        "\n",
        "# ====== Shallow copy (view) ======\n",
        "# Original array\n",
        "arr_og2 = np.array([[1, 2, 3], [4, 5, 6]])\n",
        "\n",
        "# Shallow copy\n",
        "arr_view2 = arr_og2.view()\n",
        "\n",
        "# Modify an element in the shallow copy\n",
        "arr_view2[0, 0] = 100\n",
        "print(f\"arr_og2: \\n{arr_og2}\")\n",
        "print(f\"arr_og2.base: {arr_og2.base}\")\n",
        "print(f\"arr_view2: \\n{arr_view2}\")\n",
        "print(f\"arr_view2.base: \\n{arr_view2.base}\\n\")\n",
        "\n",
        "# ======\n",
        "# original\n",
        "arr_og3 = np.array(\n",
        "    [[1,2,3],\n",
        "     [4,5,6]]\n",
        ")\n",
        "arr_copied3 = arr_og3.copy()\n",
        "arr_copied3[1,2] = 99\n",
        "print(f\"arr_og3: \\n{arr_og3}\")\n",
        "print(f\"arr_og3.base: \\n{arr_og3.base}\")\n",
        "print(f\"arr_copied3: \\n{arr_copied3}\")\n",
        "print(f\"arr_copied3.base: \\n{arr_copied3.base}\\n\")\n",
        "\n",
        "# ====== Copying Subarrays ======\n",
        "arr_og4 = np.array([[1, 2, 3], [4, 5, 6], [7, 8, 9]])\n",
        "# Creating a copy of the subarray\n",
        "sub_array = arr_og4[0:2].copy()\n",
        "sub_array[0] = 20\n",
        "print(f\"arr_og4: \\n{arr_og4}\")\n",
        "print(f\"sub_array: \\n{sub_array}\\n\")\n",
        "\n",
        "# ====== Creating Views ======\n",
        "# Original array\n",
        "arr_og5 = np.array([1, 2, 3])\n",
        "\n",
        "arr_view5 = arr_og5[0:2]\n",
        "\n",
        "# Modifying the view\n",
        "arr_view5[0] = 30\n",
        "print(f\"arr_og5: \\n{arr_og5}\")\n",
        "print(f\"arr_view5: \\n{arr_view5}\\n\")\n",
        "\n",
        "# === VIEWS FROM SLICING ===\n",
        "# Original array\n",
        "arr_og6 = np.array([1, 2, 3, 4, 5])\n",
        "\n",
        "# Creating a view by slicing the original array\n",
        "arr_view6 = arr_og6[1:4]\n",
        "print(f\"arr_og6: \\n{arr_og6}\")\n",
        "print(f\"arr_view6: \\n{arr_view6}\\n\")\n",
        "\n",
        "# === VIEWS FROM RESHAPING ===\n",
        "# Original 1D array\n",
        "arr_og7 = np.array([1, 2, 3, 4, 5, 6])\n",
        "\n",
        "# Reshaping the array into a 2x3 matrix\n",
        "arr_view7 = arr_og7.reshape(2, 3)\n",
        "print(f\"arr_og7: \\n{arr_og7}\")\n",
        "print(f\"arr_view7: \\n{arr_view7}\\n\")\n",
        "\n",
        "# === VIEWS FROM RESHAPING ===\n",
        "# Original 2D array\n",
        "arr_og8 = np.array([[1, 2, 3], [4, 5, 6]])\n",
        "\n",
        "# Transposing the array\n",
        "arr_view8 = arr_og8.T\n",
        "print(f\"arr_og8: \\n{arr_og8}\")\n",
        "print(f\"arr_view8: \\n{arr_view8}\\n\")"
      ],
      "metadata": {
        "colab": {
          "base_uri": "https://localhost:8080/"
        },
        "id": "XQRAIV7ZPvUg",
        "outputId": "7208605c-6f3a-4704-f63c-229ef8257829"
      },
      "execution_count": 12,
      "outputs": [
        {
          "output_type": "stream",
          "name": "stdout",
          "text": [
            "arr_og1: [1 2 3]\n",
            "arr_og1.base: None\n",
            "arr_copied1: [ 1 10  3]\n",
            "arr_copied1.base: None\n",
            "\n",
            "arr_og2: \n",
            "[[100   2   3]\n",
            " [  4   5   6]]\n",
            "arr_og2.base: None\n",
            "arr_view2: \n",
            "[[100   2   3]\n",
            " [  4   5   6]]\n",
            "arr_view2.base: \n",
            "[[100   2   3]\n",
            " [  4   5   6]]\n",
            "\n",
            "arr_og3: \n",
            "[[1 2 3]\n",
            " [4 5 6]]\n",
            "arr_og3.base: \n",
            "None\n",
            "arr_copied3: \n",
            "[[ 1  2  3]\n",
            " [ 4  5 99]]\n",
            "arr_copied3.base: \n",
            "None\n",
            "\n",
            "arr_og4: \n",
            "[[1 2 3]\n",
            " [4 5 6]\n",
            " [7 8 9]]\n",
            "sub_array: \n",
            "[[20 20 20]\n",
            " [ 4  5  6]]\n",
            "\n",
            "arr_og5: \n",
            "[30  2  3]\n",
            "arr_view5: \n",
            "[30  2]\n",
            "\n",
            "arr_og6: \n",
            "[1 2 3 4 5]\n",
            "arr_view6: \n",
            "[2 3 4]\n",
            "\n",
            "arr_og7: \n",
            "[1 2 3 4 5 6]\n",
            "arr_view7: \n",
            "[[1 2 3]\n",
            " [4 5 6]]\n",
            "\n",
            "arr_og8: \n",
            "[[1 2 3]\n",
            " [4 5 6]]\n",
            "arr_view8: \n",
            "[[1 4]\n",
            " [2 5]\n",
            " [3 6]]\n",
            "\n"
          ]
        }
      ]
    },
    {
      "cell_type": "markdown",
      "source": [
        "# np.array() vs np.asarray()\n",
        "| Fitur                 | `np.array()`                               | `np.asarray()`                                       |\n",
        "| --------------------- | ------------------------------------------ | ---------------------------------------------------- |\n",
        "| **Input list/tuple**  | Buat array baru                            | Buat array baru                                      |\n",
        "| **Input NumPy array** | **Selalu copy** (kecuali `copy=False`)     | **Tidak copy** (hanya view jika dtype & order cocok) |\n",
        "| **Kontrol copy**      | Bisa atur dengan argumen `copy=True/False` | Tidak ada argumen `copy` (default = hemat)           |\n",
        "| **Efisiensi**         | Bisa lebih boros memori (karena copy)      | Lebih hemat, cepat (hindari copy jika tidak perlu)   |\n",
        "| **Use case utama**    | Kalau butuh array baru yang terpisah       | Kalau hanya ingin “pastikan” input jadi array NumPy  |\n",
        "\n",
        "\n",
        "---\n",
        "\n",
        "np.asarray(obj) :\n",
        "\n",
        "Kalau obj sudah ndarray dan dtype/order sama → kembalikan objek yang sama.\n",
        "\n",
        "Kalau tidak → bikin copy dengan dtype/order baru.\n",
        "\n",
        "np.array(obj) :\n",
        "\n",
        "Selalu bikin array baru (copy) kecuali kamu eksplisit pakai copy=False."
      ],
      "metadata": {
        "id": "mWXtF4zYxjmN"
      }
    },
    {
      "cell_type": "code",
      "source": [
        "# ===== From List/Tuple Python =====\n",
        "x = [1,2,3,4,5]\n",
        "\n",
        "# np.array()\n",
        "arr_1 = np.array(x)\n",
        "\n",
        "# np.asarray()\n",
        "arr_2 = np.asarray(x)\n",
        "\n",
        "x[2] = 99\n",
        "\n",
        "print(f\"x: {x}\")\n",
        "print(f\"arr_1: {arr_1}, x is arr_1: {x is arr_1}\")\n",
        "print(f\"arr_2: {arr_2}, x is arr_2: {x is arr_2}\\n\")\n",
        "\n",
        "# ===== From Numpy Array (same dtype) =====\n",
        "y = np.array([100,200,300,400,500])\n",
        "\n",
        "# np.array()\n",
        "arr_3 = np.array(y)\n",
        "\n",
        "# np.asarray()\n",
        "arr_4 = np.asarray(y)\n",
        "\n",
        "y[2] = 0\n",
        "\n",
        "print(f\"y: {y}\")\n",
        "print(f\"arr_3: {arr_3}, y is arr_3: {y is arr_3}\")\n",
        "print(f\"arr_4: {arr_4}, y is arr_4 {y is arr_4}\\n\")\n",
        "\n",
        "# ===== From Numpy Array (diff dtype) =====\n",
        "z = np.array([1, 2, 3], dtype=np.int32)\n",
        "arr_5 = np.array(z, dtype=np.float32)\n",
        "arr_6 = np.asarray(z)\n",
        "print(f\"z: {z}\")\n",
        "print(f\"arr_5: {arr_5}, z is arr_5: {z is arr_5}\")\n",
        "print(f\"arr_6: {arr_6}, z is arr_6 {z is arr_6}\\n\")\n",
        "\n"
      ],
      "metadata": {
        "colab": {
          "base_uri": "https://localhost:8080/"
        },
        "id": "JEGc3aHvxpXV",
        "outputId": "44cdc93d-4b76-4871-ce98-273ddacd327f"
      },
      "execution_count": 20,
      "outputs": [
        {
          "output_type": "stream",
          "name": "stdout",
          "text": [
            "x: [1, 2, 99, 4, 5]\n",
            "arr_1: [1 2 3 4 5], x is arr_1: False\n",
            "arr_2: [1 2 3 4 5], x is arr_2: False\n",
            "\n",
            "y: [100 200   0 400 500]\n",
            "arr_3: [100 200 300 400 500], y is arr_3: False\n",
            "arr_4: [100 200   0 400 500], y is arr_4 True\n",
            "\n",
            "z: [1 2 3]\n",
            "arr_5: [1. 2. 3.], z is arr_5: False\n",
            "arr_6: [1 2 3], z is arr_6 True\n",
            "\n"
          ]
        }
      ]
    },
    {
      "cell_type": "markdown",
      "source": [
        "# Creating and Manipulating"
      ],
      "metadata": {
        "id": "CyOSV7is0FXh"
      }
    },
    {
      "cell_type": "markdown",
      "source": [
        "## Array Cretion Routines\n",
        "numpy.array() Function\n",
        "\n",
        "numpy.zeros() Function\n",
        "\n",
        "numpy.ones() Function\n",
        "\n",
        "numpy.arange() Function\n",
        "\n",
        "numpy.linspace() Function\n",
        "\n",
        "numpy.random.rand() Function\n",
        "\n",
        "numpy.empty() Function\n",
        "\n",
        "numpy.full() Function"
      ],
      "metadata": {
        "id": "sfFe2_tr0K32"
      }
    },
    {
      "cell_type": "markdown",
      "source": [
        "### zeros"
      ],
      "metadata": {
        "id": "77ndLX-1-Cij"
      }
    },
    {
      "cell_type": "code",
      "source": [
        "arr_zeros1d = np.zeros(4)\n",
        "print(f\"arr_zeros1d: \\n{arr_zeros1d}\\n\")\n",
        "\n",
        "arr_zeros2d = np.zeros([2,3])\n",
        "print(f\"arr_zeros2d: \\n{arr_zeros2d}\\n\")\n",
        "\n",
        "arr_zeros3d = np.zeros([2,3,4])\n",
        "print(f\"arr_zeros3d: \\n{arr_zeros3d}\\n\")"
      ],
      "metadata": {
        "colab": {
          "base_uri": "https://localhost:8080/"
        },
        "id": "p0Jkwhci1DOr",
        "outputId": "75a03ccf-cd0e-479b-88dc-819d89108f89"
      },
      "execution_count": null,
      "outputs": [
        {
          "output_type": "stream",
          "name": "stdout",
          "text": [
            "arr_zeros1d: \n",
            "[0. 0. 0. 0.]\n",
            "\n",
            "arr_zeros2d: \n",
            "[[0. 0. 0.]\n",
            " [0. 0. 0.]]\n",
            "\n",
            "arr_zeros3d: \n",
            "[[[0. 0. 0. 0.]\n",
            "  [0. 0. 0. 0.]\n",
            "  [0. 0. 0. 0.]]\n",
            "\n",
            " [[0. 0. 0. 0.]\n",
            "  [0. 0. 0. 0.]\n",
            "  [0. 0. 0. 0.]]]\n",
            "\n"
          ]
        }
      ]
    },
    {
      "cell_type": "markdown",
      "source": [
        "### ones"
      ],
      "metadata": {
        "id": "KyBud2Pz-G94"
      }
    },
    {
      "cell_type": "code",
      "source": [
        "arr_ones1d = np.ones(4)\n",
        "print(f\"arr_ones1d: \\n{arr_ones1d}\\n\")\n",
        "\n",
        "arr_ones2d = np.ones([2,3])\n",
        "print(f\"arr_ones2d: \\n{arr_ones2d}\\n\")\n",
        "\n",
        "arr_ones3d = np.ones([2,3,4])\n",
        "print(f\"arr_ones3d: \\n{arr_ones3d}\\n\")"
      ],
      "metadata": {
        "colab": {
          "base_uri": "https://localhost:8080/"
        },
        "id": "slXmH4eB1-F7",
        "outputId": "d1a95dc3-3cf3-4e63-d5cf-3b93332267af"
      },
      "execution_count": null,
      "outputs": [
        {
          "output_type": "stream",
          "name": "stdout",
          "text": [
            "arr_ones1d: \n",
            "[1. 1. 1. 1.]\n",
            "\n",
            "arr_ones2d: \n",
            "[[1. 1. 1.]\n",
            " [1. 1. 1.]]\n",
            "\n",
            "arr_ones3d: \n",
            "[[[1. 1. 1. 1.]\n",
            "  [1. 1. 1. 1.]\n",
            "  [1. 1. 1. 1.]]\n",
            "\n",
            " [[1. 1. 1. 1.]\n",
            "  [1. 1. 1. 1.]\n",
            "  [1. 1. 1. 1.]]]\n",
            "\n"
          ]
        }
      ]
    },
    {
      "cell_type": "markdown",
      "source": [
        "### arange"
      ],
      "metadata": {
        "id": "uzO5vusdTjkh"
      }
    },
    {
      "cell_type": "code",
      "source": [
        "# 1D\n",
        "arr_1 = np.arange(10)\n",
        "print(f\"arr_1: \\n{arr_1}\\n\")\n",
        "arr_2 = np.arange(5, 10)\n",
        "print(f\"arr_2: \\n{arr_2}\\n\")\n",
        "arr_3 = np.arange(10, 0, -1)\n",
        "print(f\"arr_3: \\n{arr_3}\\n\")\n",
        "\n",
        "# 2D\n",
        "arr2 = np.arange(6).reshape(2,3)\n",
        "print(f\"arr2: \\n{arr2}\\n\")\n",
        "\n",
        "# 3D\n",
        "arr3 = np.arange(10, -2, -1, dtype=np.float32).reshape(3,2,2) # 3 blok, 2 baris, 2 kolom\n",
        "print(f\"arr3: \\n{arr3}\\n\")\n",
        "print(f\"dtype (before): {arr3.dtype}\\n\")\n",
        "\n",
        "arr3_2 = arr3.astype(np.int8)\n",
        "print(f\"arr3_2: \\n{arr3_2}\\n\")\n",
        "print(f\"dtype (after): {arr3_2.dtype}\\n\")"
      ],
      "metadata": {
        "colab": {
          "base_uri": "https://localhost:8080/"
        },
        "id": "y_IYicNS2Pu3",
        "outputId": "7fe40af4-a8df-48dc-d015-d26104ea92e7"
      },
      "execution_count": null,
      "outputs": [
        {
          "output_type": "stream",
          "name": "stdout",
          "text": [
            "arr_1: \n",
            "[0 1 2 3 4 5 6 7 8 9]\n",
            "\n",
            "arr_2: \n",
            "[5 6 7 8 9]\n",
            "\n",
            "arr_3: \n",
            "[10  9  8  7  6  5  4  3  2  1]\n",
            "\n",
            "arr2: \n",
            "[[0 1 2]\n",
            " [3 4 5]]\n",
            "\n",
            "arr3: \n",
            "[[[10.  9.]\n",
            "  [ 8.  7.]]\n",
            "\n",
            " [[ 6.  5.]\n",
            "  [ 4.  3.]]\n",
            "\n",
            " [[ 2.  1.]\n",
            "  [ 0. -1.]]]\n",
            "\n",
            "dtype (before): float32\n",
            "\n",
            "arr3_2: \n",
            "[[[10  9]\n",
            "  [ 8  7]]\n",
            "\n",
            " [[ 6  5]\n",
            "  [ 4  3]]\n",
            "\n",
            " [[ 2  1]\n",
            "  [ 0 -1]]]\n",
            "\n",
            "dtype (after): int8\n",
            "\n"
          ]
        }
      ]
    },
    {
      "cell_type": "markdown",
      "source": [
        "### linspace"
      ],
      "metadata": {
        "id": "21KjKbab-MpH"
      }
    },
    {
      "cell_type": "code",
      "source": [
        "# numpy.linspace : Fungsi untuk membuat array dengan jumlah titik tertentu yang merata jaraknya antara nilai awal dan akhir.\n",
        "# Beda dengan np.arange (yang pakai step), np.linspace pakai jumlah titik.\n",
        "\n",
        "# np.linspace(start, stop, num=50, endpoint=True, retstep=False, dtype=None)\n",
        "# start → nilai awal\n",
        "# stop → nilai akhir\n",
        "# num → jumlah titik (default = 50)\n",
        "# endpoint → kalau True, stop disertakan; kalau False, titik terakhir < stop\n",
        "# retstep → kalau True, juga mengembalikan jarak antar titik (step)\n",
        "# dtype → tipe data\n",
        "\n",
        "# arange(start, stop, step) → tentukan jarak antar titik (step), jumlah titik ditentukan otomatis.\n",
        "# linspace(start, stop, num) → tentukan jumlah titik, jaraknya otomatis dihitung.\n",
        "\n",
        "# 1D\n",
        "# 5 titik merata dari 0 sampai 1.\n",
        "arr_1 = np.linspace(0, 1, 5)\n",
        "print(f\"arr_1: \\n{arr_1}\\n\")\n",
        "\n",
        "# Masih 5 titik, tapi 1 tidak dimasukkan.\n",
        "arr_2 = np.linspace(0, 1, 5, endpoint=False)\n",
        "print(f\"arr_2: \\n{arr_2}\\n\")\n",
        "\n",
        "# Jarak antar titik = 0.25\n",
        "arr_3, step = np.linspace(0, 1, 5, retstep=True)\n",
        "print(f\"arr_3: \\n{arr_3}\\n\")\n",
        "\n",
        "# 2D\n",
        "arr2 = np.linspace(0, 1, 6).reshape(3, 2)\n",
        "print(f\"arr2: \\n{arr2}\\n\")\n",
        "\n",
        "# 3D\n",
        "arr3 = np.linspace(0, 1, 18).reshape(3, 2, 3)\n",
        "print(f\"arr2: \\n{arr3}\\n\")"
      ],
      "metadata": {
        "colab": {
          "base_uri": "https://localhost:8080/"
        },
        "id": "IZKDm0CB7SCg",
        "outputId": "c8b1904d-4c99-4ba7-eba7-92ef1ef8b7ce"
      },
      "execution_count": null,
      "outputs": [
        {
          "output_type": "stream",
          "name": "stdout",
          "text": [
            "arr_1: \n",
            "[0.   0.25 0.5  0.75 1.  ]\n",
            "\n",
            "arr_2: \n",
            "[0.  0.2 0.4 0.6 0.8]\n",
            "\n",
            "arr_3: \n",
            "[0.   0.25 0.5  0.75 1.  ]\n",
            "\n",
            "arr2: \n",
            "[[0.  0.2]\n",
            " [0.4 0.6]\n",
            " [0.8 1. ]]\n",
            "\n",
            "arr2: \n",
            "[[[0.         0.05882353 0.11764706]\n",
            "  [0.17647059 0.23529412 0.29411765]]\n",
            "\n",
            " [[0.35294118 0.41176471 0.47058824]\n",
            "  [0.52941176 0.58823529 0.64705882]]\n",
            "\n",
            " [[0.70588235 0.76470588 0.82352941]\n",
            "  [0.88235294 0.94117647 1.        ]]]\n",
            "\n"
          ]
        }
      ]
    },
    {
      "cell_type": "markdown",
      "source": [
        "### empty"
      ],
      "metadata": {
        "id": "fJltFoILt1Au"
      }
    },
    {
      "cell_type": "code",
      "source": [
        "# np.empty(): Fungsi untuk membuat array baru dengan ukuran tertentu. Isinya tidak diinisialisasi → artinya nilai di dalam array bisa berupa angka acak “sampah” yang sudah ada di memori. Sangat cepat karena NumPy tidak repot mengisi elemen.\n",
        "\n",
        "# Kapan menggunakan : Kalau kamu langsung akan mengisi array dengan nilai baru (misalnya lewat loop atau operasi). Supaya lebih efisien dan hemat waktu dibanding zeros. np.empty() aman dipakai kalau kamu langsung isi array dengan nilai baru. Kalau butuh nilai awal yang jelas (0, 1, atau random acak), sebaiknya jangan pakai ini.\n",
        "\n",
        "# np.zeros(shape)\n",
        "# → buat array dengan semua elemen 0. Lebih aman kalau butuh nilai awal jelas.Lebih lambat daripada empty() karena harus isi semua dengan nol.\n",
        "\n",
        "# np.ones(shape)\n",
        "# → buat array dengan semua elemen 1.\n",
        "\n",
        "# np.full(shape, fill_value)\n",
        "# → buat array dengan nilai tertentu.\n",
        "\n",
        "# np.empty(shape)\n",
        "# → buat array kosong, isinya tidak ditentukan.Lebih cepat.Cocok kalau nanti langsung menimpa semua elemen (misalnya lewat perhitungan).\n",
        "\n",
        "arr_e1 = np.empty((4,))\n",
        "print(f\"arr_e1: \\n{arr_e1}\\n\")\n",
        "\n",
        "arr_e2 = np.empty((2,3), dtype=np.float32)\n",
        "print(f\"arr_e2: \\n{arr_e2}\\n\")\n",
        "\n",
        "arr_e3 = np.empty((2,3,4), dtype=np.int8)\n",
        "print(f\"arr_e3: \\n{arr_e3}\\n\")"
      ],
      "metadata": {
        "colab": {
          "base_uri": "https://localhost:8080/"
        },
        "id": "Zed5lGZKt5LB",
        "outputId": "514c56a5-bbf9-4fa9-9c9f-755c58a459fd"
      },
      "execution_count": null,
      "outputs": [
        {
          "output_type": "stream",
          "name": "stdout",
          "text": [
            "arr_e1: \n",
            "[2.75443222e-315 0.00000000e+000 4.94065646e-324 6.54254384e-310]\n",
            "\n",
            "arr_e2: \n",
            "[[6.3298792e-19 0.0000000e+00 1.4012985e-45]\n",
            " [0.0000000e+00 2.8608226e-34 4.3204834e-41]]\n",
            "\n",
            "arr_e3: \n",
            "[[[ 55 -45  58  33]\n",
            "  [  0   0   0   0]\n",
            "  [  1   0   0   0]]\n",
            "\n",
            " [[  0   0   0   0]\n",
            "  [ 96  34 -66   7]\n",
            "  [112 120   0   0]]]\n",
            "\n"
          ]
        }
      ]
    },
    {
      "cell_type": "markdown",
      "source": [
        "### full"
      ],
      "metadata": {
        "id": "GOQXp1iiw5fk"
      }
    },
    {
      "cell_type": "code",
      "source": [
        "arr_f1 = np.full(2,5, dtype=np.complex64)\n",
        "print(f\"arr_f1: \\n{arr_f1}\\n\")\n",
        "\n",
        "arr_f2 = np.full((3,2), False, dtype=bool)\n",
        "print(f\"arr_f2: \\n{arr_f2}\\n\")\n",
        "\n",
        "arr_f3 = np.full((2,4,3), True, dtype=bool)\n",
        "print(f\"arr_f3: \\n{arr_f3}\\n\")"
      ],
      "metadata": {
        "colab": {
          "base_uri": "https://localhost:8080/"
        },
        "id": "hvIy7d8zw8C8",
        "outputId": "a80daba7-0467-4815-dbf9-56bbd748a214"
      },
      "execution_count": null,
      "outputs": [
        {
          "output_type": "stream",
          "name": "stdout",
          "text": [
            "arr_f1: \n",
            "[5.+0.j 5.+0.j]\n",
            "\n",
            "arr_f2: \n",
            "[[False False]\n",
            " [False False]\n",
            " [False False]]\n",
            "\n",
            "arr_f3: \n",
            "[[[ True  True  True]\n",
            "  [ True  True  True]\n",
            "  [ True  True  True]\n",
            "  [ True  True  True]]\n",
            "\n",
            " [[ True  True  True]\n",
            "  [ True  True  True]\n",
            "  [ True  True  True]\n",
            "  [ True  True  True]]]\n",
            "\n"
          ]
        }
      ]
    },
    {
      "cell_type": "markdown",
      "source": [
        "### eye\n",
        "hanya untuk matriks (2D)"
      ],
      "metadata": {
        "id": "A9VNkqDmHt2h"
      }
    },
    {
      "cell_type": "code",
      "source": [
        "arr_1 = np.eye(2, dtype=np.int32)\n",
        "print(f\"arr_1:\\n{arr_1}\\n\")\n",
        "\n",
        "arr_2 = np.eye(3)\n",
        "print(f\"arr_2:\\n{arr_2}\\n\")\n",
        "\n",
        "arr_3 = 5 * np.eye(3,4) # sama dengan arr_3 = 5 * np.eye(3,4)\n",
        "print(f\"arr_3:\\n{arr_3}\\n\")\n",
        "\n",
        "arr_4 = 5 * np.eye(3,4, k=1)\n",
        "print(f\"arr_4:\\n{arr_4}\\n\")\n",
        "\n",
        "arr_5 = 5 * np.eye(3,4, k=2)\n",
        "print(f\"arr_5:\\n{arr_5}\\n\")\n",
        "\n",
        "arr_6 = 5 * np.eye(3,4, k=3)\n",
        "print(f\"arr_6:\\n{arr_6}\\n\")\n",
        "\n",
        "arr_7 = 5 * np.eye(3,4, k=4)\n",
        "print(f\"arr_7:\\n{arr_7}\\n\")\n",
        "\n",
        "# untuk kebawah tinggal -1, dst"
      ],
      "metadata": {
        "colab": {
          "base_uri": "https://localhost:8080/"
        },
        "id": "4P56NS75H7zQ",
        "outputId": "e1da6321-e81e-4e2d-9da1-8662c171a412"
      },
      "execution_count": 47,
      "outputs": [
        {
          "output_type": "stream",
          "name": "stdout",
          "text": [
            "arr_1:\n",
            "[[1 0]\n",
            " [0 1]]\n",
            "\n",
            "arr_2:\n",
            "[[1. 0. 0.]\n",
            " [0. 1. 0.]\n",
            " [0. 0. 1.]]\n",
            "\n",
            "arr_3:\n",
            "[[5. 0. 0. 0.]\n",
            " [0. 5. 0. 0.]\n",
            " [0. 0. 5. 0.]]\n",
            "\n",
            "arr_4:\n",
            "[[0. 5. 0. 0.]\n",
            " [0. 0. 5. 0.]\n",
            " [0. 0. 0. 5.]]\n",
            "\n",
            "arr_5:\n",
            "[[0. 0. 5. 0.]\n",
            " [0. 0. 0. 5.]\n",
            " [0. 0. 0. 0.]]\n",
            "\n",
            "arr_6:\n",
            "[[0. 0. 0. 5.]\n",
            " [0. 0. 0. 0.]\n",
            " [0. 0. 0. 0.]]\n",
            "\n",
            "arr_7:\n",
            "[[0. 0. 0. 0.]\n",
            " [0. 0. 0. 0.]\n",
            " [0. 0. 0. 0.]]\n",
            "\n",
            "arr_8:\n",
            "[[0. 0. 0. 0.]\n",
            " [0. 0. 0. 0.]\n",
            " [0. 0. 0. 0.]]\n",
            "\n"
          ]
        }
      ]
    },
    {
      "cell_type": "markdown",
      "source": [
        "### identity\n",
        "Matriks identitas adalah matriks persegi (n×n) dengan:\n",
        "\n",
        "Semua elemen diagonal utama = 1\n",
        "\n",
        "Elemen lain = 0\n",
        "\n",
        "\n",
        "---\n",
        "\n",
        "np.identity(n)\n",
        "\n",
        "Membuat hanya matriks persegi (ukuran n×n).\n",
        "\n",
        "Elemen diagonal utama = 1.\n",
        "\n",
        "Tipe data default = float64, tapi bisa diubah dengan dtype.\n",
        "\n",
        "\n",
        "---\n",
        "\n",
        "Catatan:\n",
        "\n",
        "np.identity tidak bisa bikin matriks persegi panjang.\n",
        "\n",
        "Hanya untuk n×n.\n",
        "\n",
        "\n",
        "---\n",
        "\n",
        "np.eye(N, M=None, k=0)\n",
        "\n",
        "Lebih fleksibel dibanding np.identity.\n",
        "\n",
        "Parameter:\n",
        "\n",
        "N → jumlah baris\n",
        "\n",
        "M → jumlah kolom (default sama dengan N → persegi)\n",
        "\n",
        "k → diagonal mana yang dikasih nilai 1\n",
        "\n",
        "k=0 → diagonal utama\n",
        "\n",
        "k>0 → diagonal di atas diagonal utama\n",
        "\n",
        "k<0 → diagonal di bawah diagonal utama\n",
        "\n",
        "\n",
        "---\n",
        "\n",
        "| Fitur               | `np.identity`           | `np.eye`                                          |\n",
        "| ------------------- | ----------------------- | ------------------------------------------------- |\n",
        "| Bentuk              | Hanya persegi (n×n)     | Bisa persegi atau persegi panjang (N×M)           |\n",
        "| Parameter           | `n` (satu angka)        | `N, M, k` (lebih fleksibel)                       |\n",
        "| Diagonal lain (`k`) | Tidak bisa              | Bisa atur diagonal offset                         |\n",
        "| Use case umum       | Matriks identitas murni | Matriks dengan diagonal tertentu (misal shifting) |\n"
      ],
      "metadata": {
        "id": "uC71Lj3HXXOx"
      }
    },
    {
      "cell_type": "code",
      "source": [
        "a = np.identity(2)\n",
        "print(f\"a:\\n{a}\\n\")\n",
        "\n",
        "b = 5 * np.identity(3)\n",
        "print(f\"b:\\n{b}\")"
      ],
      "metadata": {
        "colab": {
          "base_uri": "https://localhost:8080/"
        },
        "id": "XdWP8FZpX3W7",
        "outputId": "d5c7a6a0-4942-4aa4-cbd1-8bda97b4bc8d"
      },
      "execution_count": 51,
      "outputs": [
        {
          "output_type": "stream",
          "name": "stdout",
          "text": [
            "a:\n",
            "[[1. 0.]\n",
            " [0. 1.]]\n",
            "b:\n",
            "[[5. 0. 0.]\n",
            " [0. 5. 0.]\n",
            " [0. 0. 5.]]\n"
          ]
        }
      ]
    },
    {
      "cell_type": "markdown",
      "source": [
        "### diag\n",
        "np.diag → hanya untuk 1D & 2D.\n",
        "\n",
        "Untuk tensor (3D, 4D, dst) → gunakan np.diagonal karena mendukung pemilihan diagonal antar axis.\n",
        "\n",
        "\n",
        "---\n",
        "\n",
        "np.diag punya dua fungsi utama tergantung inputnya:\n",
        "\n",
        "Kalau input 1D array → bikin matriks diagonal.\n",
        "\n",
        "Elemen array jadi nilai di diagonal matriks.\n",
        "\n",
        "Kalau input 2D array → ambil diagonal dari matriks.\n",
        "\n",
        "Hasilnya array 1D berisi elemen diagonal."
      ],
      "metadata": {
        "id": "G6Dx3hVdTbfx"
      }
    },
    {
      "cell_type": "code",
      "source": [
        "a = np.array([1, 2, 3,4,5])\n",
        "diag_a = np.diag(a)\n",
        "print(f\"a: {a}\")\n",
        "print(f\"diag_a: \\n{diag_a}\\n\")\n",
        "\n",
        "b = np.array(\n",
        "    [[1,2,3],\n",
        "     [4,5,6],\n",
        "     [7,8,9]]\n",
        ")\n",
        "diag_b0 = np.diag(b) # sama dengan diag_b0 = np.diag(b0, k=0)\n",
        "print(f\"b:\\n{b}\")\n",
        "print(f\"diag_b0: \\n{diag_b0}\")\n",
        "\n",
        "diag_b1 = np.diag(b, k=1)\n",
        "print(f\"diag_b1: \\n{diag_b1}\")\n",
        "\n",
        "diag_bmin1 = np.diag(b, k=-1)\n",
        "print(f\"diag_bmin1: \\n{diag_bmin1}\\n\")\n",
        "\n",
        "c = np.arange(1,33,2).reshape(4,-1)\n",
        "print(f\"c:\\n{c}\")\n",
        "diag_c0 = np.diag(c, k=0)\n",
        "print(f\"diag_c0: \\n{diag_c0}\")\n",
        "diag_c1 = np.diag(c, k=1)\n",
        "print(f\"diag_c1: \\n{diag_c1}\")\n",
        "diag_c2 = np.diag(c, k=2)\n",
        "print(f\"diag_c2: \\n{diag_c2}\")\n",
        "diag_cmin1 = np.diag(c, k=-1)\n",
        "print(f\"diag_cmin1: \\n{diag_cmin1}\")\n",
        "diag_cmin2 = np.diag(c, k=-2)\n",
        "print(f\"diag_cmin2: \\n{diag_cmin2}\")"
      ],
      "metadata": {
        "colab": {
          "base_uri": "https://localhost:8080/"
        },
        "id": "xQslpc88ULvJ",
        "outputId": "bd8da5ba-498a-4172-b06c-048a540c6f27"
      },
      "execution_count": 40,
      "outputs": [
        {
          "output_type": "stream",
          "name": "stdout",
          "text": [
            "a: [1 2 3 4 5]\n",
            "diag_a: \n",
            "[[1 0 0 0 0]\n",
            " [0 2 0 0 0]\n",
            " [0 0 3 0 0]\n",
            " [0 0 0 4 0]\n",
            " [0 0 0 0 5]]\n",
            "\n",
            "b:\n",
            "[[1 2 3]\n",
            " [4 5 6]\n",
            " [7 8 9]]\n",
            "diag_b0: \n",
            "[1 5 9]\n",
            "diag_b1: \n",
            "[2 6]\n",
            "diag_bmin1: \n",
            "[4 8]\n",
            "\n",
            "c:\n",
            "[[ 1  3  5  7]\n",
            " [ 9 11 13 15]\n",
            " [17 19 21 23]\n",
            " [25 27 29 31]]\n",
            "diag_c0: \n",
            "[ 1 11 21 31]\n",
            "diag_c1: \n",
            "[ 3 13 23]\n",
            "diag_c2: \n",
            "[ 5 15]\n",
            "diag_cmin1: \n",
            "[ 9 19 29]\n",
            "diag_cmin2: \n",
            "[17 27]\n"
          ]
        }
      ]
    },
    {
      "cell_type": "markdown",
      "source": [
        "## iterating"
      ],
      "metadata": {
        "id": "8GhS9G7xybvy"
      }
    },
    {
      "cell_type": "markdown",
      "source": [
        "### Loop"
      ],
      "metadata": {
        "id": "0WLa2cYs3wse"
      }
    },
    {
      "cell_type": "code",
      "source": [
        "# 1D\n",
        "arr_1d = np.array([1,2,3,4])\n",
        "for i in arr_1d:\n",
        "  print(i)\n",
        "\n",
        "print()\n",
        "\n",
        "# 2D\n",
        "arr_2d = np.array(\n",
        "    [[100, 200],\n",
        "     [300, 400]]\n",
        ")\n",
        "# 1\n",
        "for row in arr_2d:\n",
        "  print(row)\n",
        "# 2\n",
        "for row in arr_2d:\n",
        "  for item in row:\n",
        "    print(item)\n",
        "\n",
        "print()\n",
        "\n",
        "# 3D\n",
        "arr_3d = np.array(\n",
        "    [[[1,2],\n",
        "      [3,4]],\n",
        "\n",
        "     [[5,6],\n",
        "     [7,8]]]\n",
        ")\n",
        "# 1\n",
        "for mat in arr_3d:\n",
        "  print(mat)\n",
        "\n",
        "# 2\n",
        "for mat in arr_3d:\n",
        "  for row in mat:\n",
        "    for item in row:\n",
        "      print(item)\n"
      ],
      "metadata": {
        "colab": {
          "base_uri": "https://localhost:8080/"
        },
        "id": "sGZlO4Ip3_LX",
        "outputId": "d0a09a09-fa51-480e-cfb9-aa5f90365690"
      },
      "execution_count": 9,
      "outputs": [
        {
          "output_type": "stream",
          "name": "stdout",
          "text": [
            "1\n",
            "2\n",
            "3\n",
            "4\n",
            "\n",
            "[100 200]\n",
            "[300 400]\n",
            "100\n",
            "200\n",
            "300\n",
            "400\n",
            "\n",
            "[[1 2]\n",
            " [3 4]]\n",
            "[[5 6]\n",
            " [7 8]]\n",
            "1\n",
            "2\n",
            "3\n",
            "4\n",
            "5\n",
            "6\n",
            "7\n",
            "8\n"
          ]
        }
      ]
    },
    {
      "cell_type": "markdown",
      "source": [
        "### nditer"
      ],
      "metadata": {
        "id": "od_gbXSGN5sz"
      }
    },
    {
      "cell_type": "code",
      "source": [
        "# 1D\n",
        "arr_1d = np.array([1,2,3,4])\n",
        "for i in np.nditer(arr_1d):\n",
        "  print(i)\n",
        "\n",
        "print()\n",
        "\n",
        "# 2D\n",
        "arr_2d = np.array(\n",
        "    [[100, 200],\n",
        "     [300, 400]]\n",
        ")\n",
        "for i in np.nditer(arr_2d):\n",
        "  print(i)\n",
        "\n",
        "print()\n",
        "\n",
        "# 3D\n",
        "arr_3d = np.array(\n",
        "    [[[1,2],\n",
        "      [3,4]],\n",
        "\n",
        "     [[5,6],\n",
        "     [7,8]]]\n",
        ")\n",
        "for i in np.nditer(arr_3d):\n",
        "  print(i)"
      ],
      "metadata": {
        "colab": {
          "base_uri": "https://localhost:8080/"
        },
        "id": "2B46BXeHODI9",
        "outputId": "efa916f2-8e63-4af4-fcbd-10f68d599b28"
      },
      "execution_count": 13,
      "outputs": [
        {
          "output_type": "stream",
          "name": "stdout",
          "text": [
            "1\n",
            "2\n",
            "3\n",
            "4\n",
            "\n",
            "100\n",
            "200\n",
            "300\n",
            "400\n",
            "\n",
            "1\n",
            "2\n",
            "3\n",
            "4\n",
            "5\n",
            "6\n",
            "7\n",
            "8\n"
          ]
        }
      ]
    },
    {
      "cell_type": "markdown",
      "source": [
        "### ndenumerate"
      ],
      "metadata": {
        "id": "qfjFjo6FOh3K"
      }
    },
    {
      "cell_type": "code",
      "source": [
        "# 1D\n",
        "arr_1d = np.array([1,2,3,4])\n",
        "for idx, item in np.ndenumerate(arr_1d):\n",
        "  print(idx, item)\n",
        "\n",
        "print()\n",
        "\n",
        "# 2D\n",
        "arr_2d = np.array(\n",
        "    [[100, 200],\n",
        "     [300, 400]]\n",
        ")\n",
        "for idx, item in np.ndenumerate(arr_2d):\n",
        "  print(idx, item)\n",
        "\n",
        "print()\n",
        "\n",
        "# 3D\n",
        "arr_3d = np.array(\n",
        "    [[[1,2],\n",
        "      [3,4]],\n",
        "\n",
        "     [[5,6],\n",
        "     [7,8]]]\n",
        ")\n",
        "for idx, item in np.ndenumerate(arr_3d):\n",
        "  print(idx, item)"
      ],
      "metadata": {
        "colab": {
          "base_uri": "https://localhost:8080/"
        },
        "id": "IObPNoMSOkDv",
        "outputId": "1b2cad6b-3638-4329-df17-3ec06e4bf989"
      },
      "execution_count": 19,
      "outputs": [
        {
          "output_type": "stream",
          "name": "stdout",
          "text": [
            "(0,) 1\n",
            "(1,) 2\n",
            "(2,) 3\n",
            "(3,) 4\n",
            "\n",
            "(0, 0) 100\n",
            "(0, 1) 200\n",
            "(1, 0) 300\n",
            "(1, 1) 400\n",
            "\n",
            "7\n",
            "(0, 0, 0) 1\n",
            "(0, 0, 1) 2\n",
            "(0, 1, 0) 3\n",
            "(0, 1, 1) 4\n",
            "(1, 0, 0) 5\n",
            "(1, 0, 1) 6\n",
            "(1, 1, 0) 7\n",
            "(1, 1, 1) 8\n"
          ]
        }
      ]
    },
    {
      "cell_type": "code",
      "source": [
        "image = np.arange(3*3*3).reshape(3,3,3)  # 3x3 pixel, 3 channel\n",
        "print(image)"
      ],
      "metadata": {
        "colab": {
          "base_uri": "https://localhost:8080/"
        },
        "id": "TSs5bvmtRHLQ",
        "outputId": "5f4cc5b8-cfed-45af-c8fc-1e45c4f33e17"
      },
      "execution_count": 20,
      "outputs": [
        {
          "output_type": "stream",
          "name": "stdout",
          "text": [
            "[[[ 0  1  2]\n",
            "  [ 3  4  5]\n",
            "  [ 6  7  8]]\n",
            "\n",
            " [[ 9 10 11]\n",
            "  [12 13 14]\n",
            "  [15 16 17]]\n",
            "\n",
            " [[18 19 20]\n",
            "  [21 22 23]\n",
            "  [24 25 26]]]\n"
          ]
        }
      ]
    },
    {
      "cell_type": "markdown",
      "source": [
        "## reshape"
      ],
      "metadata": {
        "id": "A8iV9WizRfzl"
      }
    },
    {
      "cell_type": "code",
      "source": [
        "a = np.array([1,2,3,4,5,6,7,8,9,10,11,12])\n",
        "a_2d = a.reshape(4,3)\n",
        "a_3d = a.reshape(3,2,2)\n",
        "print(f\"a:\\n{a}\\n\")\n",
        "print(f\"a_2d:\\n{a_2d}\\n\")\n",
        "print(f\"a_3d:\\n{a_3d}\\n\")\n",
        "\n",
        "b = np.arange(12).reshape(3, -1) # 3 baris, kolom dihitung otomatis\n",
        "print(f\"b:\\n{b}\\n\")\n",
        "\n",
        "c = np.arange(12).reshape(-1, 3) # 3 kolom, baris dihitung otomatis\n",
        "print(f\"c:\\n{c}\\n\")\n",
        "\n",
        "d = np.arange(18).reshape(3, -1, 2)\n",
        "print(f\"d:\\n{d}\\n\")\n"
      ],
      "metadata": {
        "colab": {
          "base_uri": "https://localhost:8080/"
        },
        "id": "goYGyzNaRh0O",
        "outputId": "b6a454fd-e56f-4e64-a1d1-26889f15bce6"
      },
      "execution_count": 27,
      "outputs": [
        {
          "output_type": "stream",
          "name": "stdout",
          "text": [
            "a:\n",
            "[ 1  2  3  4  5  6  7  8  9 10 11 12]\n",
            "\n",
            "a_2d:\n",
            "[[ 1  2  3]\n",
            " [ 4  5  6]\n",
            " [ 7  8  9]\n",
            " [10 11 12]]\n",
            "\n",
            "a_3d:\n",
            "[[[ 1  2]\n",
            "  [ 3  4]]\n",
            "\n",
            " [[ 5  6]\n",
            "  [ 7  8]]\n",
            "\n",
            " [[ 9 10]\n",
            "  [11 12]]]\n",
            "\n",
            "b:\n",
            "[[ 0  1  2  3]\n",
            " [ 4  5  6  7]\n",
            " [ 8  9 10 11]]\n",
            "\n",
            "c:\n",
            "[[ 0  1  2]\n",
            " [ 3  4  5]\n",
            " [ 6  7  8]\n",
            " [ 9 10 11]]\n",
            "\n",
            "d:\n",
            "[[[ 0  1]\n",
            "  [ 2  3]\n",
            "  [ 4  5]]\n",
            "\n",
            " [[ 6  7]\n",
            "  [ 8  9]\n",
            "  [10 11]]\n",
            "\n",
            " [[12 13]\n",
            "  [14 15]\n",
            "  [16 17]]]\n",
            "\n"
          ]
        }
      ]
    },
    {
      "cell_type": "markdown",
      "source": [
        "## concatenate\n",
        "Concatenate\n",
        "Menyambung array di dimensi yang sudah ada.\n",
        "Tidak menambah dimensi baru.\n",
        "👉 Bayangkan ada dua tali 👉 disambung jadi satu tali panjang.\n",
        "\n",
        "Stack\n",
        "Menggabungkan array dengan cara menambah dimensi baru.\n",
        "Beda dengan concatenate, karena hasilnya punya 1 dimensi ekstra.\n",
        "👉 Bayangkan dua kertas 👉 ditumpuk jadi setumpuk kertas (ada “ketebalan”).\n",
        "\n",
        "\n",
        "---\n",
        "\n",
        "\n",
        "Concatenate → sambung di dimensi lama.\n",
        "\n",
        "Stack → tambah dimensi baru.\n",
        "\n",
        "\n",
        "---\n",
        "\n",
        "\n",
        "Concatenate = menyambung jalan → lebih panjang tapi tetap 1 jalur.\n",
        "\n",
        "Stack = membangun lantai baru → tambah arah vertikal."
      ],
      "metadata": {
        "id": "AvOHmmtYUqoa"
      }
    },
    {
      "cell_type": "code",
      "source": [
        "# 1D\n",
        "arr1d_1 = np.array([1,2,3])\n",
        "arr1d_2 = np.array([4,5,6])\n",
        "arr_con1d = np.concatenate((arr1d_1, arr1d_2))\n",
        "print(f\"arr_con1d: {arr_con1d}\\n\")\n",
        "\n",
        "# 2D\n",
        "arr2d_1 = np.array(\n",
        "    [[1,2],\n",
        "     [3,4]]\n",
        ")\n",
        "arr2d_2 = np.array(\n",
        "    [[5,6],\n",
        "     [7,8]]\n",
        ")\n",
        "arr_con2d_a0 = np.concatenate((arr2d_1, arr2d_2), axis=0)\n",
        "print(f\"arr_con2d_a0:\\n{arr_con2d_a0}\")\n",
        "arr_con2d_a1 = np.concatenate((arr2d_1, arr2d_2), axis=1)\n",
        "print(f\"arr_con2d_a1:\\n{arr_con2d_a1}\")"
      ],
      "metadata": {
        "colab": {
          "base_uri": "https://localhost:8080/"
        },
        "id": "IpcTF3otVc7j",
        "outputId": "3ffa2538-5b5d-4e40-f805-0545413840c0"
      },
      "execution_count": 50,
      "outputs": [
        {
          "output_type": "stream",
          "name": "stdout",
          "text": [
            "arr_con1d: [1 2 3 4 5 6]\n",
            "\n",
            "arr_con2d_a0:\n",
            "[[1 2]\n",
            " [3 4]\n",
            " [5 6]\n",
            " [7 8]]\n",
            "arr_con2d_a1:\n",
            "[[1 2 5 6]\n",
            " [3 4 7 8]]\n"
          ]
        }
      ]
    },
    {
      "cell_type": "markdown",
      "source": [
        "## stack"
      ],
      "metadata": {
        "id": "mbC4_fZrbyrb"
      }
    },
    {
      "cell_type": "code",
      "source": [
        "# 1D\n",
        "arr1d_1 = np.array([1, 2, 3])\n",
        "arr1d_2 = np.array([4, 5, 6])\n",
        "arr1d_3 = np.array([7, 8, 9])\n",
        "\n",
        "# Stack arrays along a new axis\n",
        "stacked_arr1d_a0 = np.stack((arr1d_1, arr1d_2, arr1d_3), axis=0)\n",
        "print(f\"stacked_arr1d_a0:\\n{stacked_arr1d_a0}\")\n",
        "\n",
        "stacked_arr1d_a1 = np.stack((arr1d_1, arr1d_2, arr1d_3), axis=1)\n",
        "print(f\"stacked_arr1d_a1:\\n{stacked_arr1d_a1}\\n\")\n",
        "\n",
        "# 2D\n",
        "arr2d_1 = np.array(\n",
        "    [[1,2],\n",
        "     [3,4]]\n",
        ")\n",
        "arr2d_2 = np.array(\n",
        "    [[5,6],\n",
        "     [7,8]]\n",
        ")\n",
        "stacked_arr2d_a0 = np.stack((arr2d_1, arr2d_2), axis=0)\n",
        "print(f\"stacked_arr2d_a0:\\n{stacked_arr2d_a0}\")\n",
        "\n",
        "stacked_arr2d_a1 = np.stack((arr2d_1, arr2d_2), axis=1)\n",
        "print(f\"stacked_arr2d_a1:\\n{stacked_arr2d_a1}\")\n",
        "\n",
        "stacked_arr2d_a2 = np.stack((arr2d_1, arr2d_2), axis=2)\n",
        "print(f\"stacked_arr2d_a2:\\n{stacked_arr2d_a2}\")"
      ],
      "metadata": {
        "colab": {
          "base_uri": "https://localhost:8080/"
        },
        "id": "cdVuAWvpXRiN",
        "outputId": "d493422a-cafc-4259-d188-428752d4a628"
      },
      "execution_count": 47,
      "outputs": [
        {
          "output_type": "stream",
          "name": "stdout",
          "text": [
            "stacked_arr1d_a0:\n",
            "[[1 2 3]\n",
            " [4 5 6]\n",
            " [7 8 9]]\n",
            "stacked_arr1d_a1:\n",
            "[[1 4 7]\n",
            " [2 5 8]\n",
            " [3 6 9]]\n",
            "\n",
            "stacked_arr2d_a0:\n",
            "[[[1 2]\n",
            "  [3 4]]\n",
            "\n",
            " [[5 6]\n",
            "  [7 8]]]\n",
            "stacked_arr2d_a1:\n",
            "[[[1 2]\n",
            "  [5 6]]\n",
            "\n",
            " [[3 4]\n",
            "  [7 8]]]\n",
            "stacked_arr2d_a2:\n",
            "[[[1 5]\n",
            "  [2 6]]\n",
            "\n",
            " [[3 7]\n",
            "  [4 8]]]\n"
          ]
        }
      ]
    },
    {
      "cell_type": "markdown",
      "source": [
        "## block\n",
        "Kalau list-nya satu dimensi saja → balok ditaruh samping-samping (hasil array 1D).\n",
        "\n",
        "Kalau list-nya bersarang (nested list) → baris luar = baris balok, isi dalamnya = balok di samping dalam baris itu.\n",
        "\n",
        "Semua balok di satu baris harus punya jumlah baris sama.\n",
        "\n",
        "Semua baris harus punya jumlah kolom sama.\n",
        "\n",
        "\n",
        "---\n",
        "\n",
        "Bedanya dengan concatenate / stack\n",
        "\n",
        "concatenate → gabung lurus (1 baris atau 1 kolom).\n",
        "\n",
        "stack → tambah dimensi baru.\n",
        "\n",
        "block → bisa gabung samping dan bawah sekaligus, seperti menyusun lego dalam kotak.\n",
        "\n",
        "\n",
        "---\n",
        "\n",
        "\n",
        "\n",
        "👉 Jadi intinya:\n",
        "\n",
        "np.block = cara menempel array kecil jadi array besar dengan layout seperti tabel/list bersarang.\n",
        "\n",
        "Enaknya: kamu bisa langsung lihat dari struktur list mau disusun seperti apa."
      ],
      "metadata": {
        "id": "I71iS7J4I5JF"
      }
    },
    {
      "cell_type": "code",
      "source": [
        "a = np.array([1,2])\n",
        "b = np.array([3,4])\n",
        "block_1 = np.block([a,b])\n",
        "block_2 = np.block(\n",
        "    [[a],\n",
        "     [b]]\n",
        ")\n",
        "print(f\"a: {a}\")\n",
        "print(f\"b: {b}\")\n",
        "print(f\"block_1: {block_1}\")\n",
        "print(f\"block_2:\\n{block_2}\\n\")\n",
        "\n",
        "e = np.array(\n",
        "    [[1,2],\n",
        "     [3,4]]\n",
        ")\n",
        "f = np.array(\n",
        "    [[5],\n",
        "     [6]]\n",
        ")\n",
        "block_3 = np.block(\n",
        "    [e,f]\n",
        ")\n",
        "print(f\"block_3:\\n{block_3}\\n\")\n",
        "\n",
        "g = 5 * np.eye(2)\n",
        "h = np.zeros([2,2])\n",
        "block_4 = np.block(\n",
        "    [g,h]\n",
        ")\n",
        "block_5 = np.block(\n",
        "    [[g],\n",
        "     [h]]\n",
        ")\n",
        "print(f\"block_4:\\n{block_4}\\n\")\n",
        "print(f\"block_5:\\n{block_5}\\n\")\n"
      ],
      "metadata": {
        "colab": {
          "base_uri": "https://localhost:8080/"
        },
        "id": "bi0tHLIEJQfy",
        "outputId": "2c82c9d0-d1f5-4418-cab7-f3620b77dddb"
      },
      "execution_count": 57,
      "outputs": [
        {
          "output_type": "stream",
          "name": "stdout",
          "text": [
            "a: [1 2]\n",
            "b: [3 4]\n",
            "block_1: [1 2 3 4]\n",
            "block_2:\n",
            "[[1 2]\n",
            " [3 4]]\n",
            "\n",
            "block_3:\n",
            "[[1 2 5]\n",
            " [3 4 6]]\n",
            "\n",
            "block_4:\n",
            "[[5. 0. 0. 0.]\n",
            " [0. 5. 0. 0.]]\n",
            "\n",
            "block_5:\n",
            "[[5. 0.]\n",
            " [0. 5.]\n",
            " [0. 0.]\n",
            " [0. 0.]]\n",
            "\n"
          ]
        }
      ]
    },
    {
      "cell_type": "markdown",
      "source": [
        "## split"
      ],
      "metadata": {
        "id": "5x5Ko88soN_f"
      }
    },
    {
      "cell_type": "code",
      "source": [
        "# split :\n",
        "# 2 -> jadi ada 2 bagian\n",
        "# 3 -> jadi ada 3 bagian\n",
        "\n",
        "# 1D\n",
        "arr_1 = np.arange(6)\n",
        "arr_1_split1 = np.split(arr_1, 2)\n",
        "arr_1_split2 = np.split(arr_1, 3)\n",
        "print(f\"arr_1: {arr_1}\")\n",
        "print(f\"arr_1_split1: {arr_1_split1}\")\n",
        "print(f\"arr_1_split2: {arr_1_split2}\\n\")\n",
        "\n",
        "# 2D\n",
        "arr_2 = np.arange(12).reshape(3,4)\n",
        "arr_2_split1 = np.split(arr_2, 3)\n",
        "arr_2_split2 = np.split(arr_2, 2, axis=1)\n",
        "arr_2_split3 = np.split(arr_2, 4, axis=1)\n",
        "print(f\"arr_2: \\n{arr_2}\")\n",
        "print(f\"arr_2_split1: \\n{arr_2_split1}\")\n",
        "print(f\"arr_2_split2: \\n{arr_2_split2}\")\n",
        "print(f\"arr_2_split3: \\n{arr_2_split3}\")"
      ],
      "metadata": {
        "colab": {
          "base_uri": "https://localhost:8080/"
        },
        "id": "8FQY0RscPtm0",
        "outputId": "05f44a9c-2d20-4eb2-dcc9-fbabd3615666"
      },
      "execution_count": 38,
      "outputs": [
        {
          "output_type": "stream",
          "name": "stdout",
          "text": [
            "arr_1: [0 1 2 3 4 5]\n",
            "arr_1_split1: [array([0, 1, 2]), array([3, 4, 5])]\n",
            "arr_1_split2: [array([0, 1]), array([2, 3]), array([4, 5])]\n",
            "\n",
            "arr_2: \n",
            "[[ 0  1  2  3]\n",
            " [ 4  5  6  7]\n",
            " [ 8  9 10 11]]\n",
            "arr_2_split1: \n",
            "[array([[0, 1, 2, 3]]), array([[4, 5, 6, 7]]), array([[ 8,  9, 10, 11]])]\n",
            "arr_2_split2: \n",
            "[array([[0, 1],\n",
            "       [4, 5],\n",
            "       [8, 9]]), array([[ 2,  3],\n",
            "       [ 6,  7],\n",
            "       [10, 11]])]\n",
            "arr_2_split3: \n",
            "[array([[0],\n",
            "       [4],\n",
            "       [8]]), array([[1],\n",
            "       [5],\n",
            "       [9]]), array([[ 2],\n",
            "       [ 6],\n",
            "       [10]]), array([[ 3],\n",
            "       [ 7],\n",
            "       [11]])]\n"
          ]
        }
      ]
    },
    {
      "cell_type": "markdown",
      "source": [
        "## flatten\n",
        "\n",
        "| Metode         | Copy atau View? | Catatan                 |\n",
        "| -------------- | --------------- | ----------------------- |\n",
        "| `.flatten()`   | **Selalu copy** | aman, tapi boros memori |\n",
        "| `.ravel()`     | View kalau bisa | cepat & hemat memori    |\n",
        "| `.reshape(-1)` | Bisa copy/view  | cara paling singkat     |\n",
        "\n",
        "\n",
        "---\n",
        "\n",
        "Intinya: flattening = ubah tensor apa pun jadi vektor 1D.\n",
        "\n",
        "Kalau butuh aman → pakai .flatten().\n",
        "\n",
        "Kalau butuh efisiensi → pakai .ravel() atau .reshape(-1)."
      ],
      "metadata": {
        "id": "DjhczmtxVY7R"
      }
    },
    {
      "cell_type": "code",
      "source": [
        "# 2D\n",
        "a = np.arange(12).reshape(6,2)\n",
        "print(f\"a:\\n{a}\\n\")\n",
        "\n",
        "# flatten()\n",
        "a_flat = a.flatten()\n",
        "print(f\"a_flat:\\n{a_flat}\")\n",
        "print(f\"a_flat.base:\\n{a_flat.base}\\n\")\n",
        "\n",
        "# ravel()\n",
        "a_ravel = a.ravel()\n",
        "print(f\"a_ravel:\\n{a_ravel}\")\n",
        "print(f\"a_ravel.base:\\n{a_ravel.base}\\n\")\n",
        "\n",
        "# reshape(-1)\n",
        "a_reshape = a.reshape(-1)\n",
        "print(f\"a_reshape:\\n{a_reshape}\")\n",
        "print(f\"a_reshape.base:\\n{a_reshape.base}\\n\")"
      ],
      "metadata": {
        "colab": {
          "base_uri": "https://localhost:8080/"
        },
        "id": "8Nkge57zWjaI",
        "outputId": "3ecf7d37-efca-49e3-f493-0889e52d8b72"
      },
      "execution_count": 44,
      "outputs": [
        {
          "output_type": "stream",
          "name": "stdout",
          "text": [
            "a:\n",
            "[[ 0  1]\n",
            " [ 2  3]\n",
            " [ 4  5]\n",
            " [ 6  7]\n",
            " [ 8  9]\n",
            " [10 11]]\n",
            "\n",
            "a_flat:\n",
            "[ 0  1  2  3  4  5  6  7  8  9 10 11]\n",
            "a_flat.base:\n",
            "None\n",
            "\n",
            "a_ravel:\n",
            "[ 0  1  2  3  4  5  6  7  8  9 10 11]\n",
            "a_ravel.base:\n",
            "[ 0  1  2  3  4  5  6  7  8  9 10 11]\n",
            "\n",
            "a_reshape:\n",
            "[ 0  1  2  3  4  5  6  7  8  9 10 11]\n",
            "a_reshape.base:\n",
            "[ 0  1  2  3  4  5  6  7  8  9 10 11]\n",
            "\n"
          ]
        }
      ]
    },
    {
      "cell_type": "markdown",
      "source": [
        "## transpose"
      ],
      "metadata": {
        "id": "GFM28pdqYuWH"
      }
    },
    {
      "cell_type": "code",
      "source": [
        "a = np.arange(12).reshape(3,4)\n",
        "print(f\"a:\\n{a}\\n\")\n",
        "\n",
        "# T\n",
        "a_T = a.T\n",
        "print(f\"a_T:\\n{a_T}\\n\")\n",
        "\n",
        "# transpose()\n",
        "a_tr = a.transpose()\n",
        "print(f\"a_tr:\\n{a_tr}\\n\")\n",
        "\n",
        "# transpose(,,)\n",
        "b = np.arange(24).reshape(2,4,3)\n",
        "b_tr = b.transpose()\n",
        "b_tr2 = b.transpose(0,2,1) # y\n",
        "b_tr3 = b.transpose(0,1,2)\n",
        "print(f\"b:\\n{b}\\n\")\n",
        "print(f\"b_tr:\\n{b_tr}\\n\")\n",
        "print(f\"b_tr2:\\n{b_tr2}\\n\")\n",
        "print(f\"b_tr3:\\n{b_tr3}\\n\")"
      ],
      "metadata": {
        "colab": {
          "base_uri": "https://localhost:8080/"
        },
        "id": "NcahmQqEYw_s",
        "outputId": "dc0097b8-3c71-44ab-825a-b22942ef51f1"
      },
      "execution_count": 57,
      "outputs": [
        {
          "output_type": "stream",
          "name": "stdout",
          "text": [
            "a:\n",
            "[[ 0  1  2  3]\n",
            " [ 4  5  6  7]\n",
            " [ 8  9 10 11]]\n",
            "\n",
            "a_T:\n",
            "[[ 0  4  8]\n",
            " [ 1  5  9]\n",
            " [ 2  6 10]\n",
            " [ 3  7 11]]\n",
            "\n",
            "a_tr:\n",
            "[[ 0  4  8]\n",
            " [ 1  5  9]\n",
            " [ 2  6 10]\n",
            " [ 3  7 11]]\n",
            "\n",
            "b:\n",
            "[[[ 0  1  2]\n",
            "  [ 3  4  5]\n",
            "  [ 6  7  8]\n",
            "  [ 9 10 11]]\n",
            "\n",
            " [[12 13 14]\n",
            "  [15 16 17]\n",
            "  [18 19 20]\n",
            "  [21 22 23]]]\n",
            "\n",
            "b_tr:\n",
            "[[[ 0 12]\n",
            "  [ 3 15]\n",
            "  [ 6 18]\n",
            "  [ 9 21]]\n",
            "\n",
            " [[ 1 13]\n",
            "  [ 4 16]\n",
            "  [ 7 19]\n",
            "  [10 22]]\n",
            "\n",
            " [[ 2 14]\n",
            "  [ 5 17]\n",
            "  [ 8 20]\n",
            "  [11 23]]]\n",
            "\n",
            "b_tr2:\n",
            "[[[ 0  3  6  9]\n",
            "  [ 1  4  7 10]\n",
            "  [ 2  5  8 11]]\n",
            "\n",
            " [[12 15 18 21]\n",
            "  [13 16 19 22]\n",
            "  [14 17 20 23]]]\n",
            "\n",
            "b_tr3:\n",
            "[[[ 0  1  2]\n",
            "  [ 3  4  5]\n",
            "  [ 6  7  8]\n",
            "  [ 9 10 11]]\n",
            "\n",
            " [[12 13 14]\n",
            "  [15 16 17]\n",
            "  [18 19 20]\n",
            "  [21 22 23]]]\n",
            "\n"
          ]
        }
      ]
    },
    {
      "cell_type": "markdown",
      "source": [
        "# Indexing and Slicing"
      ],
      "metadata": {
        "id": "YbBa2rEPC9GF"
      }
    },
    {
      "cell_type": "markdown",
      "source": [
        "## indexing\n",
        "\n",
        "1D\n",
        "\n",
        "[idx0, idx1, idx3, dst]\n",
        "\n",
        "[dst, idx-3, idx-2, idx-1]\n",
        "\n",
        "\n",
        "\n",
        "---\n",
        "\n",
        "2D\n",
        "\n",
        "[0,0 0,1 0,2]\n",
        "\n",
        "[1,0 1,1, 1,2]\n",
        "\n",
        "[2,0 2,1 2,2]\n",
        "\n",
        "\n",
        "---\n",
        "\n",
        "3D\n",
        "\n",
        "[[[0,0,0 0,0,1 0,0,2],\n",
        "\n",
        "  [0,1,0 0,1,1 0,1,2],\n",
        "\n",
        "  [0,2,0 0,2,1 0,2,2]]\n",
        "\n",
        "  [1,0,0 1,0,1 1,0,2],\n",
        "\n",
        "  [1,1,0 1,1,1 1,1,2],\n",
        "\n",
        "  [1,2,0 1,2,1 1,2,2]]]"
      ],
      "metadata": {
        "id": "ScAAKcEmDB2u"
      }
    },
    {
      "cell_type": "code",
      "source": [
        "# 1D\n",
        "arr_1d = np.array([1, 2, 3, 4, 5])\n",
        "print(f\"arr_1d: {arr_1d}\")\n",
        "print(f\"arr_1d[2]: {arr_1d[2]}\")\n",
        "print(f\"arr_1d[-1]: {arr_1d[-1]}\\n\")\n",
        "\n",
        "# 2D\n",
        "arr_2d = np.array(\n",
        "    [[1,2],\n",
        "     [3,4]]\n",
        ")\n",
        "print(f\"arr_2d:\\n{arr_2d}\")\n",
        "print(f\"arr_2d[1][0]: {arr_2d[1][0]}\\n\")\n",
        "\n",
        "# 3D\n",
        "arr_3d = np.array(\n",
        "    [[[1,2],\n",
        "      [3,4]],\n",
        "\n",
        "     [[5,6],\n",
        "      [7,8]]]\n",
        ")\n",
        "print(f\"arr_3d:\\n{arr_3d}\")\n",
        "print(f\"arr_3d[1][1][1]: {arr_3d[1][1][1]}\\n\")"
      ],
      "metadata": {
        "colab": {
          "base_uri": "https://localhost:8080/"
        },
        "id": "Gs3wy5xoDHE2",
        "outputId": "65288695-d7ed-4ad7-fd68-703c86531d6e"
      },
      "execution_count": 62,
      "outputs": [
        {
          "output_type": "stream",
          "name": "stdout",
          "text": [
            "arr_1d: [1 2 3 4 5]\n",
            "arr_1d[2]: 3\n",
            "arr_1d[-1]: 5\n",
            "\n",
            "arr_2d:\n",
            "[[1 2]\n",
            " [3 4]]\n",
            "arr_2d[1][0]: 3\n",
            "\n",
            "arr_3d:\n",
            "[[[1 2]\n",
            "  [3 4]]\n",
            "\n",
            " [[5 6]\n",
            "  [7 8]]]\n",
            "arr_3d[1][1][1]: 8\n",
            "\n"
          ]
        }
      ]
    },
    {
      "cell_type": "markdown",
      "source": [
        "### slicing\n",
        "[start, stop, step]"
      ],
      "metadata": {
        "id": "7gX5MLkQaWBI"
      }
    },
    {
      "cell_type": "code",
      "source": [
        "arr_1d = np.array([0, 1, 2, 3, 4, 5, 6, 7, 8, 9])\n",
        "print(f\"arr_1d[1:]: {arr_1d[1:]}\")\n",
        "print(f\"arr_1d[2:7]: {arr_1d[2:7]}\")\n",
        "print(f\"arr_1d[:5]: {arr_1d[:5]}\")\n",
        "print(f\"arr_1d[1::2]: {arr_1d[1::2]}\")\n",
        "print(f\"arr_1d[2:8:3]: {arr_1d[2:8:3]}\")\n",
        "print(f\"arr_1d[::-1]: {arr_1d[::-1]}\")\n",
        "print(f\"arr_1d[-1::-2]: {arr_1d[-1::-2]}\")\n",
        "print(f\"arr_1d[-2:-9:-3]: {arr_1d[-2:-9:-3]}\\n\")\n",
        "\n",
        "employees = np.array([\n",
        "    [1, 25, 50000],\n",
        "    [2, 30, 60000],\n",
        "    [3, 28, 55000],\n",
        "    [4, 35, 65000],\n",
        "    [5, 40, 70000]\n",
        "])\n",
        "print(\"Information of Employee 2:\", employees[1])\n",
        "print(\"Ages of employees from index 2 onwards:\", employees[2:, 1])\n",
        "print(employees[:3, 1:])\n",
        "print(employees[::2, ::2])"
      ],
      "metadata": {
        "colab": {
          "base_uri": "https://localhost:8080/"
        },
        "id": "BclLiibjaagd",
        "outputId": "f64ea835-cf69-4d8d-d39a-c465f24ccb98"
      },
      "execution_count": 79,
      "outputs": [
        {
          "output_type": "stream",
          "name": "stdout",
          "text": [
            "arr_1d[1:]: [1 2 3 4 5 6 7 8 9]\n",
            "arr_1d[2:7]: [2 3 4 5 6]\n",
            "arr_1d[:5]: [0 1 2 3 4]\n",
            "arr_1d[1::2]: [1 3 5 7 9]\n",
            "arr_1d[2:8:3]: [2 5]\n",
            "arr_1d[::-1]: [9 8 7 6 5 4 3 2 1 0]\n",
            "arr_1d[-1::-2]: [9 7 5 3 1]\n",
            "arr_1d[-2:-9:-3]: [8 5 2]\n",
            "\n",
            "Information of Employee 2: [    2    30 60000]\n",
            "Ages of employees from index 2 onwards: [28 35 40]\n",
            "[[   25 50000]\n",
            " [   30 60000]\n",
            " [   28 55000]]\n",
            "[[    1 50000]\n",
            " [    3 55000]\n",
            " [    5 70000]]\n"
          ]
        }
      ]
    },
    {
      "cell_type": "markdown",
      "source": [
        "### advanced indexing"
      ],
      "metadata": {
        "id": "pyLlWKmNf08D"
      }
    },
    {
      "cell_type": "code",
      "source": [
        "a = np.array(\n",
        "    [[1,2],\n",
        "     [3,4],\n",
        "     [5,6]]\n",
        ")\n",
        "b = a[[0,1,2], [0,1,0]] # [baris] [kolom]\n",
        "print(f\"a:\\n{a}\")\n",
        "print(f\"b:\\n{b}\\n\")\n",
        "\n",
        "c = np.arange(1,13).reshape(4,3)\n",
        "rows = c[[]]\n",
        "print(f\"c:\\n{c}\")"
      ],
      "metadata": {
        "colab": {
          "base_uri": "https://localhost:8080/"
        },
        "id": "5HBwv-nnf53L",
        "outputId": "308eb313-c531-4b65-9025-2cdef4f20813"
      },
      "execution_count": 84,
      "outputs": [
        {
          "output_type": "stream",
          "name": "stdout",
          "text": [
            "a:\n",
            "[[1 2]\n",
            " [3 4]\n",
            " [5 6]]\n",
            "b:\n",
            "[1 4 5]\n",
            "\n",
            "c:\n",
            "[[ 1  2  3]\n",
            " [ 4  5  6]\n",
            " [ 7  8  9]\n",
            " [10 11 12]]\n"
          ]
        }
      ]
    }
  ]
}